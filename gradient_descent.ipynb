{
 "cells": [
  {
   "cell_type": "code",
   "execution_count": 11,
   "metadata": {},
   "outputs": [],
   "source": [
    "import numpy as np\n",
    "import matplotlib.pyplot as plt\n",
    "\n",
    "class LinearRegressionGD:\n",
    "    def __init__(self, learning_rate=0.01, num_iterations=1000, plot=False):\n",
    "        self.learning_rate = learning_rate\n",
    "        self.num_iterations = num_iterations\n",
    "        self.weights = np.random.randn(2, 1)  # Initialize weights and bias randomly\n",
    "        self.plot = plot\n",
    "        if self.plot:\n",
    "            self.fig, self.ax = plt.subplots()\n",
    "            self.colormap = plt.colormaps['RdYlGn']\n",
    "\n",
    "    def predict(self, X):\n",
    "        X_b = np.c_[np.ones((X.shape[0], 1)), X]  # Add bias term\n",
    "        return X_b.dot(self.weights)\n",
    "    \n",
    "    def compute_cost(self, X, y):\n",
    "        m = len(y)\n",
    "        predictions = self.predict(X)\n",
    "        cost = (1 / (2 * m)) * np.sum((predictions - y) ** 2)\n",
    "        return cost\n",
    "    \n",
    "    def fit(self, X, y, X_test=None, y_test=None):\n",
    "        m = len(y)\n",
    "        X_b = np.c_[np.ones((m, 1)), X]  # Add column of ones for bias (intercept) term\n",
    "        \n",
    "        if self.plot:\n",
    "            self.ax.scatter(X, y, color='blue', label='Training data')\n",
    "            if X_test is not None and y_test is not None:\n",
    "                self.ax.scatter(X_test, y_test, color='orange', label='Test data', alpha=0.5)\n",
    "        \n",
    "        for i in range(self.num_iterations):\n",
    "            predictions = self.predict(X)\n",
    "            # errors = predictions - y\n",
    "            # gradients = (1 / m) * X_b.T.dot(errors)\n",
    "            # self.weights -= self.learning_rate * gradients\n",
    "            \n",
    "            if i % (self.num_iterations // 10) == 0:  # Plot the line after every 10% of iterations\n",
    "                print(f\"Iteration {i}: Cost {self.compute_cost(X, y)}\")\n",
    "                if self.plot:\n",
    "                    color = self.colormap(i / self.num_iterations)\n",
    "                    self.ax.plot(X, predictions, color=color, label=f'Iteration {i}' if i == 0 else \"\")\n",
    "        \n",
    "        if self.plot:\n",
    "            self.ax.set_xlabel('Input Feature X')\n",
    "            self.ax.set_ylabel('Output y')\n",
    "            self.ax.set_title('Linear Regression Training Progress')\n",
    "            self.ax.legend()\n",
    "            plt.show()\n",
    "\n",
    "    def compute_mse(self, X_test, y_test):\n",
    "        predictions = self.predict(X_test)\n",
    "        mse = np.mean((predictions - y_test) ** 2)\n",
    "        return mse"
   ]
  },
  {
   "cell_type": "code",
   "execution_count": 12,
   "metadata": {},
   "outputs": [
    {
     "ename": "ValueError",
     "evalue": "shapes (100,2) and (100,1) not aligned: 2 (dim 1) != 100 (dim 0)",
     "output_type": "error",
     "traceback": [
      "\u001b[0;31m---------------------------------------------------------------------------\u001b[0m",
      "\u001b[0;31mValueError\u001b[0m                                Traceback (most recent call last)",
      "Cell \u001b[0;32mIn[12], line 10\u001b[0m\n\u001b[1;32m      7\u001b[0m X_test \u001b[38;5;241m=\u001b[39m \u001b[38;5;241m2\u001b[39m \u001b[38;5;241m*\u001b[39m np\u001b[38;5;241m.\u001b[39mrandom\u001b[38;5;241m.\u001b[39mrand(\u001b[38;5;241m5\u001b[39m, \u001b[38;5;241m1\u001b[39m)\n\u001b[1;32m      8\u001b[0m y_test \u001b[38;5;241m=\u001b[39m \u001b[38;5;241m3\u001b[39m \u001b[38;5;241m*\u001b[39m X_test \u001b[38;5;241m+\u001b[39m np\u001b[38;5;241m.\u001b[39mrandom\u001b[38;5;241m.\u001b[39mrandn(\u001b[38;5;241m5\u001b[39m, \u001b[38;5;241m1\u001b[39m)\n\u001b[0;32m---> 10\u001b[0m \u001b[43mmodel\u001b[49m\u001b[38;5;241;43m.\u001b[39;49m\u001b[43mfit\u001b[49m\u001b[43m(\u001b[49m\u001b[43mX\u001b[49m\u001b[43m,\u001b[49m\u001b[43m \u001b[49m\u001b[43my\u001b[49m\u001b[43m,\u001b[49m\u001b[43m \u001b[49m\u001b[43mX_test\u001b[49m\u001b[43m,\u001b[49m\u001b[43m \u001b[49m\u001b[43my_test\u001b[49m\u001b[43m)\u001b[49m\n\u001b[1;32m     11\u001b[0m \u001b[38;5;28mprint\u001b[39m(\u001b[38;5;124m\"\u001b[39m\u001b[38;5;124mMSE on test data:\u001b[39m\u001b[38;5;124m\"\u001b[39m, model\u001b[38;5;241m.\u001b[39mcompute_mse(X_test, y_test))\n",
      "Cell \u001b[0;32mIn[11], line 39\u001b[0m, in \u001b[0;36mLinearRegressionGD.fit\u001b[0;34m(self, X, y, X_test, y_test)\u001b[0m\n\u001b[1;32m     35\u001b[0m \u001b[38;5;66;03m# errors = predictions - y\u001b[39;00m\n\u001b[1;32m     36\u001b[0m \u001b[38;5;66;03m# gradients = (1 / m) * X_b.T.dot(errors)\u001b[39;00m\n\u001b[1;32m     37\u001b[0m \u001b[38;5;66;03m# self.weights -= self.learning_rate * gradients\u001b[39;00m\n\u001b[1;32m     38\u001b[0m errors \u001b[38;5;241m=\u001b[39m predictions \u001b[38;5;241m-\u001b[39m y\n\u001b[0;32m---> 39\u001b[0m gradients \u001b[38;5;241m=\u001b[39m (\u001b[38;5;241m1\u001b[39m \u001b[38;5;241m/\u001b[39m m) \u001b[38;5;241m*\u001b[39m \u001b[43mnp\u001b[49m\u001b[38;5;241;43m.\u001b[39;49m\u001b[43mdot\u001b[49m\u001b[43m(\u001b[49m\u001b[43mX_b\u001b[49m\u001b[43m,\u001b[49m\u001b[43m \u001b[49m\u001b[43merrors\u001b[49m\u001b[43m)\u001b[49m\n\u001b[1;32m     40\u001b[0m \u001b[38;5;28mself\u001b[39m\u001b[38;5;241m.\u001b[39mweights \u001b[38;5;241m-\u001b[39m\u001b[38;5;241m=\u001b[39m \u001b[38;5;28mself\u001b[39m\u001b[38;5;241m.\u001b[39mlearning_rate \u001b[38;5;241m*\u001b[39m gradients\n\u001b[1;32m     42\u001b[0m \u001b[38;5;28;01mif\u001b[39;00m i \u001b[38;5;241m%\u001b[39m (\u001b[38;5;28mself\u001b[39m\u001b[38;5;241m.\u001b[39mnum_iterations \u001b[38;5;241m/\u001b[39m\u001b[38;5;241m/\u001b[39m \u001b[38;5;241m10\u001b[39m) \u001b[38;5;241m==\u001b[39m \u001b[38;5;241m0\u001b[39m:  \u001b[38;5;66;03m# Plot the line after every 10% of iterations\u001b[39;00m\n",
      "\u001b[0;31mValueError\u001b[0m: shapes (100,2) and (100,1) not aligned: 2 (dim 1) != 100 (dim 0)"
     ]
    },
    {
     "data": {
      "image/png": "[encoded data removed]",
      "text/plain": [
       "<Figure size 640x480 with 1 Axes>"
      ]
     },
     "metadata": {},
     "output_type": "display_data"
    }
   ],
   "source": [
    "# create test data\n",
    "np.random.seed(0)\n",
    "X = 2 * np.random.rand(100, 1)\n",
    "y = 3 * X + np.random.randn(100, 1)\n",
    "\n",
    "model = LinearRegressionGD(learning_rate=0.05, num_iterations=10, plot=True)\n",
    "X_test = 2 * np.random.rand(5, 1)\n",
    "y_test = 3 * X_test + np.random.randn(5, 1)\n",
    "\n",
    "model.fit(X, y, X_test, y_test)\n",
    "print(\"MSE on test data:\", model.compute_mse(X_test, y_test))\n"
   ]
  },
  {
   "cell_type": "code",
   "execution_count": null,
   "metadata": {},
   "outputs": [],
   "source": []
  },
  {
   "cell_type": "code",
   "execution_count": null,
   "metadata": {},
   "outputs": [],
   "source": []
  }
 ],
 "metadata": {
  "kernelspec": {
   "display_name": "MIDS207",
   "language": "python",
   "name": "python3"
  },
  "language_info": {
   "codemirror_mode": {
    "name": "ipython",
    "version": 3
   },
   "file_extension": ".py",
   "mimetype": "text/x-python",
   "name": "python",
   "nbconvert_exporter": "python",
   "pygments_lexer": "ipython3",
   "version": "3.9.19"
  }
 },
 "nbformat": 4,
 "nbformat_minor": 2
}
