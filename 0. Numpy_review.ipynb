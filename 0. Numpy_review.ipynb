{
 "cells": [
  {
   "cell_type": "markdown",
   "id": "fb19a209",
   "metadata": {},
   "source": [
    "# Assignment 0"
   ]
  },
  {
   "cell_type": "markdown",
   "id": "70578e9a",
   "metadata": {},
   "source": [
    "### <span style=\"color:chocolate\"> Submission requirements </span>\n",
    "\n",
    "Your work will not be graded if your notebook doesn't include output. In other words, <span style=\"color:red\"> make sure to rerun your notebook before submitting to Gradescope </span> (Note: if you are using Google Colab: go to Edit > Notebook Settings  and uncheck Omit code cell output when saving this notebook, otherwise the output is not printed).\n",
    "\n",
    "Additional points may be deducted if these requirements are not met:\n",
    "    \n",
    "* Comment your code;\n",
    "* Each graph should have a title, labels for each axis, and (if needed) a legend. Each graph should be understandable on its own;\n",
    "* Try and minimize the use of the global namespace (meaning, keep things inside functions).\n",
    "---"
   ]
  },
  {
   "cell_type": "markdown",
   "id": "13a171ed",
   "metadata": {},
   "source": [
    "### Import libraries"
   ]
  },
  {
   "cell_type": "code",
   "execution_count": 1,
   "id": "a64b2988",
   "metadata": {},
   "outputs": [],
   "source": [
    "import numpy as np"
   ]
  },
  {
   "cell_type": "markdown",
   "id": "809e27ae",
   "metadata": {},
   "source": [
    "---\n",
    "### <span style=\"color:chocolate\">Exercise 1:</span> Homogenous data types (10 points)\n",
    "\n",
    "1. Create a numpy array (my_array1) containing only integer values. Print the shape of the array and the type of its elements;\n",
    "2. Create another numpy array (my_array2) containing a mix of integer and string values. Print the shape of the array and the type of its elements. Comment on the type of its elements."
   ]
  },
  {
   "cell_type": "code",
   "execution_count": 2,
   "id": "ae568991",
   "metadata": {},
   "outputs": [
    {
     "name": "stdout",
     "output_type": "stream",
     "text": [
      "(4,)\n",
      "int64\n",
      "(4,)\n",
      "<U21\n"
     ]
    }
   ],
   "source": [
    "my_array1 = np.array([1, 2, 3, 4])\n",
    "print(my_array1.shape)\n",
    "print(my_array1.dtype)\n",
    "\n",
    "\n",
    "my_array2 = np.array([1, \"two\", \"three\", 4])\n",
    "print(my_array2.shape)\n",
    "print(my_array2.dtype)"
   ]
  },
  {
   "cell_type": "markdown",
   "id": "18629ead",
   "metadata": {},
   "source": [
    "Answer: all elements in a numpy array have to be the same data type, so my_array2 has converted the data from int64 to Unicode strings"
   ]
  },
  {
   "cell_type": "markdown",
   "id": "dd2832bf",
   "metadata": {},
   "source": [
    "---\n",
    "#### <span style=\"color:chocolate\">Exercise 2:</span> The size attribute (10 points)\n",
    "\n",
    "Create a numpy array (my_array3) and print its shape, size, and data type. What does size represent?"
   ]
  },
  {
   "cell_type": "code",
   "execution_count": 3,
   "id": "cca6b9a0",
   "metadata": {},
   "outputs": [
    {
     "name": "stdout",
     "output_type": "stream",
     "text": [
      "(2, 4)\n",
      "8\n",
      "int64\n",
      "[[1 2 3 4]\n",
      " [2 3 3 2]]\n"
     ]
    }
   ],
   "source": [
    "# my answer\n",
    "my_array3 = np.array([[1, 2, 3, 4],\n",
    "                      [2, 3, 3, 2]])\n",
    "\n",
    "print(my_array3.shape)\n",
    "print(my_array3.size)\n",
    "print(my_array3.dtype)\n",
    "\n",
    "print(my_array3)"
   ]
  },
  {
   "cell_type": "markdown",
   "id": "706224c8",
   "metadata": {},
   "source": [
    "answer: \n",
    "- size = total number of elements in the array"
   ]
  },
  {
   "cell_type": "markdown",
   "id": "6b407fab",
   "metadata": {},
   "source": [
    "---\n",
    "#### <span style=\"color:chocolate\">Exercise 3:</span> Tabular data layout (10 points)"
   ]
  },
  {
   "cell_type": "markdown",
   "id": "dd66e32a",
   "metadata": {},
   "source": [
    "Create a tabular data layout using the numpy method <span style=\"color:chocolate\">np.random.random()</span>, where:\n",
    "* the first input is num_samples, and\n",
    "* the second input is num_features. \n",
    "\n",
    "Print the shape of the array."
   ]
  },
  {
   "cell_type": "code",
   "execution_count": 4,
   "id": "742399c2",
   "metadata": {},
   "outputs": [],
   "source": [
    "# already defined first and second inputs\n",
    "num_samples = 100\n",
    "num_features = 17"
   ]
  },
  {
   "cell_type": "code",
   "execution_count": 5,
   "id": "c03d2ac4",
   "metadata": {},
   "outputs": [
    {
     "data": {
      "text/plain": [
       "(100, 17)"
      ]
     },
     "execution_count": 5,
     "metadata": {},
     "output_type": "execute_result"
    }
   ],
   "source": [
    "# my answer\n",
    "np.random.random((num_samples, num_features)).shape"
   ]
  },
  {
   "cell_type": "markdown",
   "id": "100cc7cb",
   "metadata": {},
   "source": [
    "---\n",
    "#### <span style=\"color:chocolate\">Exercise 4:</span> Image data layout (10 points)"
   ]
  },
  {
   "cell_type": "markdown",
   "id": "1b5bf451",
   "metadata": {},
   "source": [
    "Create an image data layout using the numpy method <span style=\"color:chocolate\">np.random.random()</span>, where:\n",
    "\n",
    "* the first input is num_images;\n",
    "* the second input is num_rows;\n",
    "* the third input is num_cols;\n",
    "* the fourth input is num_channels.\n",
    "\n",
    "Print the shape of the array."
   ]
  },
  {
   "cell_type": "code",
   "execution_count": 6,
   "id": "51f6deb1",
   "metadata": {},
   "outputs": [],
   "source": [
    "# already defined inputs\n",
    "num_images = 100\n",
    "num_rows = 256\n",
    "num_cols = 256\n",
    "num_channels = 3 #(RGB)"
   ]
  },
  {
   "cell_type": "code",
   "execution_count": 7,
   "id": "44bb2df7",
   "metadata": {},
   "outputs": [
    {
     "data": {
      "text/plain": [
       "(100, 256, 256, 3)"
      ]
     },
     "execution_count": 7,
     "metadata": {},
     "output_type": "execute_result"
    }
   ],
   "source": [
    "# answer\n",
    "np.random.random((num_images, num_rows, num_cols, num_channels)).shape"
   ]
  },
  {
   "cell_type": "markdown",
   "id": "33ee5e31",
   "metadata": {},
   "source": [
    "---\n",
    "#### <span style=\"color:chocolate\">Exercise 5: </span>Mathematical operations on numpy arrays (15 points)"
   ]
  },
  {
   "cell_type": "markdown",
   "id": "7f4b8b1f",
   "metadata": {},
   "source": [
    "Create a (3, 2) numpy array (you can name it my_array4) containing only integer values. Perform the following tasks:\n",
    "\n",
    "1. Print the shape of the array;\n",
    "2. Print the sum of all elements (hint: the axis argument is set to None);\n",
    "3. Print the sum of all elements by column;\n",
    "3. Print the sum of all elements by row and change the type of the resulting array elements to float;\n",
    "5. Print the first row of the array;\n",
    "6. Print the second row of the array;\n",
    "7. Select the element at position (1, 0);\n",
    "8. Modify the element at position (2, 1) by setting its value to 10 and print the array again;\n",
    "9. Loop over elements in the array. Print the output."
   ]
  },
  {
   "cell_type": "code",
   "execution_count": 8,
   "id": "a329fbf5",
   "metadata": {},
   "outputs": [
    {
     "name": "stdout",
     "output_type": "stream",
     "text": [
      "(3, 2)\n"
     ]
    }
   ],
   "source": [
    "# 1\n",
    "my_array4 = np.array(((1,2), (3,4), (5,6)))\n",
    "print(my_array4.shape)"
   ]
  },
  {
   "cell_type": "code",
   "execution_count": 9,
   "id": "68244dfd",
   "metadata": {},
   "outputs": [
    {
     "name": "stdout",
     "output_type": "stream",
     "text": [
      "21\n"
     ]
    }
   ],
   "source": [
    "# 2\n",
    "print(np.sum(my_array4))"
   ]
  },
  {
   "cell_type": "code",
   "execution_count": 10,
   "id": "0574848e",
   "metadata": {},
   "outputs": [
    {
     "name": "stdout",
     "output_type": "stream",
     "text": [
      "[ 9 12]\n"
     ]
    }
   ],
   "source": [
    "# 3\n",
    "print(np.sum(my_array4, axis=0))"
   ]
  },
  {
   "cell_type": "code",
   "execution_count": 11,
   "id": "b643df17",
   "metadata": {},
   "outputs": [
    {
     "data": {
      "text/plain": [
       "array([ 3.,  7., 11.])"
      ]
     },
     "execution_count": 11,
     "metadata": {},
     "output_type": "execute_result"
    }
   ],
   "source": [
    "# 4 Print the sum of all elements by row and change the type to float\n",
    "np.sum(my_array4, axis=1).astype(float)"
   ]
  },
  {
   "cell_type": "code",
   "execution_count": 12,
   "id": "1baaa4d0",
   "metadata": {},
   "outputs": [
    {
     "data": {
      "text/plain": [
       "array([1, 2])"
      ]
     },
     "execution_count": 12,
     "metadata": {},
     "output_type": "execute_result"
    }
   ],
   "source": [
    "# 5 Print the first row of the array\n",
    "my_array4[0, :]"
   ]
  },
  {
   "cell_type": "code",
   "execution_count": 13,
   "id": "a087c1e4",
   "metadata": {},
   "outputs": [
    {
     "data": {
      "text/plain": [
       "array([3, 4])"
      ]
     },
     "execution_count": 13,
     "metadata": {},
     "output_type": "execute_result"
    }
   ],
   "source": [
    "# 6 Print the second row of the array\n",
    "my_array4[1, :]"
   ]
  },
  {
   "cell_type": "code",
   "execution_count": 14,
   "id": "2bde7a14",
   "metadata": {},
   "outputs": [
    {
     "data": {
      "text/plain": [
       "3"
      ]
     },
     "execution_count": 14,
     "metadata": {},
     "output_type": "execute_result"
    }
   ],
   "source": [
    "# 7 Select the element at position (1, 0)\n",
    "my_array4[1, 0]"
   ]
  },
  {
   "cell_type": "code",
   "execution_count": 15,
   "id": "d7ba627c",
   "metadata": {},
   "outputs": [],
   "source": [
    "# 8 Modify the element at position (2, 1) to 10\n",
    "my_array4[2, 1] = 10\n",
    "modified_array = my_array4"
   ]
  },
  {
   "cell_type": "code",
   "execution_count": 16,
   "id": "15fb568a",
   "metadata": {},
   "outputs": [
    {
     "name": "stdout",
     "output_type": "stream",
     "text": [
      "1\n",
      "2\n",
      "3\n",
      "4\n",
      "5\n",
      "10\n"
     ]
    }
   ],
   "source": [
    "# 9 Loop over elements in the array\n",
    "for i in my_array4.flatten():\n",
    "    print(i)"
   ]
  },
  {
   "cell_type": "markdown",
   "id": "33d6dc65",
   "metadata": {},
   "source": [
    "You can find more examples here: https://numpy.org/doc/stable/reference/routines.math.html"
   ]
  },
  {
   "cell_type": "markdown",
   "id": "3cbf1bcb",
   "metadata": {},
   "source": [
    "---\n",
    "#### <span style=\"color:chocolate\">Exercise 6:</span> Create arrays (15 points)\n",
    "\n",
    "1. Create and print a (3,2) numpy array of pixel values between 0 and 1.\n",
    "2. Create and print a (27,) numpy array representing years from 1991 to 2017\n",
    "3. Create and print a (3, 5, 10) empty numpy array\n",
    "4. Create and print a (3, 5, 10) numpy array of ones\n",
    "5. Create and print an array with a constant value (let's say 5) using np.ones()\n",
    "6. Create and print an array with random numbers drawn from a normal distribution with mean 0 and standard deviation 1. Set the sample size to 10.\n"
   ]
  },
  {
   "cell_type": "code",
   "execution_count": 17,
   "id": "7b13c758",
   "metadata": {},
   "outputs": [
    {
     "data": {
      "text/plain": [
       "array([[0.79275943, 0.59271471],\n",
       "       [0.94480487, 0.95717403],\n",
       "       [0.57116707, 0.43822037]])"
      ]
     },
     "execution_count": 17,
     "metadata": {},
     "output_type": "execute_result"
    }
   ],
   "source": [
    "# 1. Create a (3, 2) numpy array of pixel values between 0 and 1\n",
    "a1 = np.random.rand(3, 2)\n",
    "a1"
   ]
  },
  {
   "cell_type": "code",
   "execution_count": 18,
   "id": "53dd4570",
   "metadata": {},
   "outputs": [
    {
     "data": {
      "text/plain": [
       "array([1991, 1992, 1993, 1994, 1995, 1996, 1997, 1998, 1999, 2000, 2001,\n",
       "       2002, 2003, 2004, 2005, 2006, 2007, 2008, 2009, 2010, 2011, 2012,\n",
       "       2013, 2014, 2015, 2016, 2017])"
      ]
     },
     "execution_count": 18,
     "metadata": {},
     "output_type": "execute_result"
    }
   ],
   "source": [
    "# 2. Create a (27,) numpy array representing years from 1991 to 2017\n",
    "a2 = np.arange(1991, 2018)\n",
    "a2"
   ]
  },
  {
   "cell_type": "code",
   "execution_count": 19,
   "id": "7e644eb2",
   "metadata": {},
   "outputs": [
    {
     "data": {
      "text/plain": [
       "array([[[0.00000000e+000, 2.31111740e-314, 0.00000000e+000,\n",
       "         2.31111727e-314, 2.31111736e-314, 5.43472210e-323,\n",
       "         0.00000000e+000, 3.95252517e-323, 0.00000000e+000,\n",
       "         0.00000000e+000],\n",
       "        [0.00000000e+000, 0.00000000e+000, 0.00000000e+000,\n",
       "         0.00000000e+000, 0.00000000e+000, 0.00000000e+000,\n",
       "         0.00000000e+000, 0.00000000e+000, 0.00000000e+000,\n",
       "         0.00000000e+000],\n",
       "        [0.00000000e+000, 0.00000000e+000, 0.00000000e+000,\n",
       "         0.00000000e+000, 0.00000000e+000, 0.00000000e+000,\n",
       "         0.00000000e+000, 0.00000000e+000, 0.00000000e+000,\n",
       "         0.00000000e+000],\n",
       "        [0.00000000e+000, 0.00000000e+000, 0.00000000e+000,\n",
       "         0.00000000e+000, 0.00000000e+000, 0.00000000e+000,\n",
       "         0.00000000e+000, 0.00000000e+000, 0.00000000e+000,\n",
       "         0.00000000e+000],\n",
       "        [0.00000000e+000, 0.00000000e+000, 0.00000000e+000,\n",
       "         0.00000000e+000, 0.00000000e+000, 0.00000000e+000,\n",
       "         0.00000000e+000, 4.94065646e-324, 4.94065646e-324,\n",
       "         2.25129449e-314]],\n",
       "\n",
       "       [[0.00000000e+000, 2.31111736e-314, 0.00000000e+000,\n",
       "         0.00000000e+000, 0.00000000e+000, 0.00000000e+000,\n",
       "         2.31111733e-314, 2.31111733e-314, 0.00000000e+000,\n",
       "         0.00000000e+000],\n",
       "        [0.00000000e+000, 1.48219694e-323, 2.18141167e-310,\n",
       "         0.00000000e+000, 6.93240655e-310, 4.69362364e-322,\n",
       "         0.00000000e+000, 4.49599738e-322, 0.00000000e+000,\n",
       "         0.00000000e+000],\n",
       "        [0.00000000e+000, 0.00000000e+000, 0.00000000e+000,\n",
       "         0.00000000e+000, 0.00000000e+000, 0.00000000e+000,\n",
       "         0.00000000e+000, 0.00000000e+000, 0.00000000e+000,\n",
       "         0.00000000e+000],\n",
       "        [0.00000000e+000, 0.00000000e+000, 0.00000000e+000,\n",
       "         0.00000000e+000, 0.00000000e+000, 0.00000000e+000,\n",
       "         0.00000000e+000, 4.24399158e-314, 9.88131292e-324,\n",
       "         0.00000000e+000],\n",
       "        [0.00000000e+000, 0.00000000e+000, 0.00000000e+000,\n",
       "         0.00000000e+000, 0.00000000e+000, 0.00000000e+000,\n",
       "         0.00000000e+000, 0.00000000e+000, 0.00000000e+000,\n",
       "         0.00000000e+000]],\n",
       "\n",
       "       [[0.00000000e+000, 0.00000000e+000, 0.00000000e+000,\n",
       "         0.00000000e+000, 0.00000000e+000, 0.00000000e+000,\n",
       "         0.00000000e+000, 0.00000000e+000, 0.00000000e+000,\n",
       "         0.00000000e+000],\n",
       "        [0.00000000e+000, 0.00000000e+000, 0.00000000e+000,\n",
       "         0.00000000e+000, 0.00000000e+000, 0.00000000e+000,\n",
       "         0.00000000e+000, 0.00000000e+000, 0.00000000e+000,\n",
       "         0.00000000e+000],\n",
       "        [0.00000000e+000, 0.00000000e+000, 0.00000000e+000,\n",
       "         0.00000000e+000, 0.00000000e+000, 0.00000000e+000,\n",
       "         0.00000000e+000, 0.00000000e+000, 0.00000000e+000,\n",
       "         4.49599738e-322],\n",
       "        [6.93240658e-310, 5.23709585e-322, 0.00000000e+000,\n",
       "         0.00000000e+000, 0.00000000e+000, 0.00000000e+000,\n",
       "         0.00000000e+000, 0.00000000e+000, 0.00000000e+000,\n",
       "         0.00000000e+000],\n",
       "        [0.00000000e+000, 0.00000000e+000, 0.00000000e+000,\n",
       "         0.00000000e+000, 0.00000000e+000, 0.00000000e+000,\n",
       "         0.00000000e+000, 0.00000000e+000, 0.00000000e+000,\n",
       "         0.00000000e+000]]])"
      ]
     },
     "execution_count": 19,
     "metadata": {},
     "output_type": "execute_result"
    }
   ],
   "source": [
    "# 3. Create a (3, 5, 10) empty numpy array\n",
    "a3 = np.empty((3, 5, 10))\n",
    "a3"
   ]
  },
  {
   "cell_type": "code",
   "execution_count": 20,
   "id": "a6e45f4e",
   "metadata": {},
   "outputs": [
    {
     "data": {
      "text/plain": [
       "array([[[1., 1., 1., 1., 1., 1., 1., 1., 1., 1.],\n",
       "        [1., 1., 1., 1., 1., 1., 1., 1., 1., 1.],\n",
       "        [1., 1., 1., 1., 1., 1., 1., 1., 1., 1.],\n",
       "        [1., 1., 1., 1., 1., 1., 1., 1., 1., 1.],\n",
       "        [1., 1., 1., 1., 1., 1., 1., 1., 1., 1.]],\n",
       "\n",
       "       [[1., 1., 1., 1., 1., 1., 1., 1., 1., 1.],\n",
       "        [1., 1., 1., 1., 1., 1., 1., 1., 1., 1.],\n",
       "        [1., 1., 1., 1., 1., 1., 1., 1., 1., 1.],\n",
       "        [1., 1., 1., 1., 1., 1., 1., 1., 1., 1.],\n",
       "        [1., 1., 1., 1., 1., 1., 1., 1., 1., 1.]],\n",
       "\n",
       "       [[1., 1., 1., 1., 1., 1., 1., 1., 1., 1.],\n",
       "        [1., 1., 1., 1., 1., 1., 1., 1., 1., 1.],\n",
       "        [1., 1., 1., 1., 1., 1., 1., 1., 1., 1.],\n",
       "        [1., 1., 1., 1., 1., 1., 1., 1., 1., 1.],\n",
       "        [1., 1., 1., 1., 1., 1., 1., 1., 1., 1.]]])"
      ]
     },
     "execution_count": 20,
     "metadata": {},
     "output_type": "execute_result"
    }
   ],
   "source": [
    "# 4. Create a (3, 5, 10) numpy array of ones\n",
    "a4 = np.ones((3, 5, 10))\n",
    "a4"
   ]
  },
  {
   "cell_type": "code",
   "execution_count": 21,
   "id": "427dd77d",
   "metadata": {},
   "outputs": [
    {
     "data": {
      "text/plain": [
       "array([5., 5., 5., 5., 5., 5., 5., 5., 5., 5.])"
      ]
     },
     "execution_count": 21,
     "metadata": {},
     "output_type": "execute_result"
    }
   ],
   "source": [
    "# 5. Create an array with a constant value 5 using np.ones()\n",
    "a5 = np.ones(10) * 5\n",
    "a5"
   ]
  },
  {
   "cell_type": "code",
   "execution_count": 22,
   "id": "5295a2e8",
   "metadata": {},
   "outputs": [
    {
     "data": {
      "text/plain": [
       "array([ 0.32826953,  0.59888006,  1.29856698, -0.20001016, -0.75912194,\n",
       "        0.49833732,  0.81080661, -0.33644272,  1.28470841,  0.30443516])"
      ]
     },
     "execution_count": 22,
     "metadata": {},
     "output_type": "execute_result"
    }
   ],
   "source": [
    "# 6. Create and print an array with random numbers drawn from a normal distribution with mean 0 and standard deviation 1. Set the sample size to 10.\n",
    "a6 = np.random.normal(0, 1, 10)\n",
    "a6"
   ]
  },
  {
   "cell_type": "markdown",
   "id": "d75ec682",
   "metadata": {},
   "source": [
    "---\n",
    "#### <span style=\"color:chocolate\">Exercise 7:</span> Reshape arrays (10 points)"
   ]
  },
  {
   "cell_type": "markdown",
   "id": "4af75cd1",
   "metadata": {},
   "source": [
    "Consider the following array:"
   ]
  },
  {
   "cell_type": "code",
   "execution_count": 23,
   "id": "e9c13f8b",
   "metadata": {},
   "outputs": [
    {
     "name": "stdout",
     "output_type": "stream",
     "text": [
      "(27,)\n"
     ]
    },
    {
     "data": {
      "text/plain": [
       "array([1991, 1992, 1993, 1994, 1995, 1996, 1997, 1998, 1999, 2000, 2001,\n",
       "       2002, 2003, 2004, 2005, 2006, 2007, 2008, 2009, 2010, 2011, 2012,\n",
       "       2013, 2014, 2015, 2016, 2017])"
      ]
     },
     "execution_count": 23,
     "metadata": {},
     "output_type": "execute_result"
    }
   ],
   "source": [
    "years = np.arange(1991, 2018, 1)\n",
    "print(years.shape)\n",
    "years"
   ]
  },
  {
   "cell_type": "markdown",
   "id": "5c4d422e",
   "metadata": {},
   "source": [
    "Perform the following operations on this array:\n",
    "    \n",
    "1. Create 3 nested arrays, each of size (3, 3). Call this array years_3d;\n",
    "2. Convert the years_3d array to a flat 1D array. Call this array years_1d;\n",
    "3. Add a new axis (in front) to the years_1d array. Call this array years_2d;\n",
    "4. Remove the first axis from years_2d array. Call this array years_1d.\n",
    "\n",
    "For each exercise print the array and its shape."
   ]
  },
  {
   "cell_type": "code",
   "execution_count": 24,
   "id": "be0641e5",
   "metadata": {},
   "outputs": [
    {
     "name": "stdout",
     "output_type": "stream",
     "text": [
      "(3, 3, 3)\n"
     ]
    },
    {
     "data": {
      "text/plain": [
       "array([[[1991, 1992, 1993],\n",
       "        [1994, 1995, 1996],\n",
       "        [1997, 1998, 1999]],\n",
       "\n",
       "       [[2000, 2001, 2002],\n",
       "        [2003, 2004, 2005],\n",
       "        [2006, 2007, 2008]],\n",
       "\n",
       "       [[2009, 2010, 2011],\n",
       "        [2012, 2013, 2014],\n",
       "        [2015, 2016, 2017]]])"
      ]
     },
     "execution_count": 24,
     "metadata": {},
     "output_type": "execute_result"
    }
   ],
   "source": [
    "# 1. Create 3 nested arrays, each of size (3, 3)\n",
    "years_3d = years.reshape(3, 3, 3)\n",
    "print(years_3d.shape)\n",
    "years_3d"
   ]
  },
  {
   "cell_type": "code",
   "execution_count": 25,
   "id": "55fdbf3a",
   "metadata": {},
   "outputs": [
    {
     "name": "stdout",
     "output_type": "stream",
     "text": [
      "(27,)\n"
     ]
    },
    {
     "data": {
      "text/plain": [
       "array([1991, 1992, 1993, 1994, 1995, 1996, 1997, 1998, 1999, 2000, 2001,\n",
       "       2002, 2003, 2004, 2005, 2006, 2007, 2008, 2009, 2010, 2011, 2012,\n",
       "       2013, 2014, 2015, 2016, 2017])"
      ]
     },
     "execution_count": 25,
     "metadata": {},
     "output_type": "execute_result"
    }
   ],
   "source": [
    "# 2. Convert the years_3d array to a flat 1D array\n",
    "years_1d = years_3d.ravel()\n",
    "print(years_1d.shape)\n",
    "years_1d"
   ]
  },
  {
   "cell_type": "code",
   "execution_count": 26,
   "id": "a127c393",
   "metadata": {},
   "outputs": [
    {
     "name": "stdout",
     "output_type": "stream",
     "text": [
      "(1, 27)\n"
     ]
    },
    {
     "data": {
      "text/plain": [
       "array([[1991, 1992, 1993, 1994, 1995, 1996, 1997, 1998, 1999, 2000, 2001,\n",
       "        2002, 2003, 2004, 2005, 2006, 2007, 2008, 2009, 2010, 2011, 2012,\n",
       "        2013, 2014, 2015, 2016, 2017]])"
      ]
     },
     "execution_count": 26,
     "metadata": {},
     "output_type": "execute_result"
    }
   ],
   "source": [
    "# 3. Add a new axis (in front) to the years_1d array\n",
    "years_2d = years_1d[np.newaxis, :]\n",
    "print(years_2d.shape)\n",
    "years_2d"
   ]
  },
  {
   "cell_type": "code",
   "execution_count": 27,
   "id": "ea13df2f",
   "metadata": {},
   "outputs": [
    {
     "name": "stdout",
     "output_type": "stream",
     "text": [
      "(27,)\n"
     ]
    },
    {
     "data": {
      "text/plain": [
       "array([1991, 1992, 1993, 1994, 1995, 1996, 1997, 1998, 1999, 2000, 2001,\n",
       "       2002, 2003, 2004, 2005, 2006, 2007, 2008, 2009, 2010, 2011, 2012,\n",
       "       2013, 2014, 2015, 2016, 2017])"
      ]
     },
     "execution_count": 27,
     "metadata": {},
     "output_type": "execute_result"
    }
   ],
   "source": [
    "# 4. Remove the first axis from years_2d array\n",
    "years_1d = years_2d.squeeze()\n",
    "print(years_1d.shape)\n",
    "years_1d"
   ]
  },
  {
   "cell_type": "markdown",
   "id": "b23bb336",
   "metadata": {},
   "source": [
    "---\n",
    "#### <span style=\"color:chocolate\">Exercise 8:</span> Joining arrays (10 points)"
   ]
  },
  {
   "cell_type": "markdown",
   "id": "921e4750",
   "metadata": {},
   "source": [
    "Provide 8 examples that use the methods <span style=\"color:cornflowerBlue\">np.concatenate()</span> and <span style=\"color:cornflowerBlue\">np.stack()</span>. Note: create 4 examples using each method."
   ]
  },
  {
   "cell_type": "code",
   "execution_count": 28,
   "id": "155c5ac2",
   "metadata": {},
   "outputs": [],
   "source": [
    "# concatenate two 1d rows\n",
    "a = np.array([1, 2, 3])\n",
    "b = np.array([4, 5, 6])\n",
    "c1 = np.concatenate((a, b))\n",
    "# print(c1)"
   ]
  },
  {
   "cell_type": "code",
   "execution_count": 29,
   "id": "3cf52078",
   "metadata": {},
   "outputs": [],
   "source": [
    "# concat 2d rows on axis 0\n",
    "a = np.array([[1, 2], [3, 4]])\n",
    "c = np.array([[1, 2], [3, 4]])\n",
    "c2 = np.concatenate((a, c), axis=0)\n",
    "# print(c2)"
   ]
  },
  {
   "cell_type": "code",
   "execution_count": 30,
   "id": "93d7f07f",
   "metadata": {},
   "outputs": [],
   "source": [
    "# concat 2d rows on axis 1\n",
    "a = np.array([[1, 2], [3, 4]])\n",
    "c = np.array([[1, 2], [3, 4]])\n",
    "c3 = np.concatenate((a, c), axis=1)\n",
    "# print(c3)"
   ]
  },
  {
   "cell_type": "code",
   "execution_count": 31,
   "id": "6fa8cffd",
   "metadata": {},
   "outputs": [],
   "source": [
    "# Concatenating three 2D arrays along rows:\n",
    "c = np.array([[1, 2], [3, 4]])\n",
    "d = np.array([[5, 6], [7, 8]])\n",
    "e = np.array([[9, 0], [1, 1]])\n",
    "c4 = np.concatenate((c, d, e), axis=1)\n",
    "# print(c4)"
   ]
  },
  {
   "cell_type": "code",
   "execution_count": 32,
   "id": "83605c73",
   "metadata": {},
   "outputs": [],
   "source": [
    "a = np.array([1, 2, 3])\n",
    "b = np.array([4, 5, 6])\n",
    "s1 = np.stack((a, b), axis=0)\n",
    "# s1"
   ]
  },
  {
   "cell_type": "code",
   "execution_count": 33,
   "id": "012ced91",
   "metadata": {},
   "outputs": [
    {
     "data": {
      "text/plain": [
       "array([[1, 4],\n",
       "       [2, 5],\n",
       "       [3, 6]])"
      ]
     },
     "execution_count": 33,
     "metadata": {},
     "output_type": "execute_result"
    }
   ],
   "source": [
    "s2 = np.stack((a, b), axis=1)\n",
    "s2"
   ]
  },
  {
   "cell_type": "code",
   "execution_count": 34,
   "id": "9c468cd5",
   "metadata": {},
   "outputs": [
    {
     "name": "stdout",
     "output_type": "stream",
     "text": [
      "[[[1 2]\n",
      "  [3 4]]\n",
      "\n",
      " [[5 6]\n",
      "  [7 8]]\n",
      "\n",
      " [[9 0]\n",
      "  [1 1]]]\n"
     ]
    }
   ],
   "source": [
    "s3 = np.stack((c, d, e), axis=0)\n",
    "print(s3)"
   ]
  },
  {
   "cell_type": "code",
   "execution_count": 35,
   "id": "d2c807c4",
   "metadata": {},
   "outputs": [
    {
     "name": "stdout",
     "output_type": "stream",
     "text": [
      "[[[1 5 9]\n",
      "  [2 6 0]]\n",
      "\n",
      " [[3 7 1]\n",
      "  [4 8 1]]]\n"
     ]
    }
   ],
   "source": [
    "s4 = np.stack((c, d, e), axis=2)\n",
    "print(s4)"
   ]
  },
  {
   "cell_type": "markdown",
   "id": "10e5215e",
   "metadata": {},
   "source": [
    "---\n",
    "#### <span style=\"color:chocolate\">Numpy broadcasting</span> "
   ]
  },
  {
   "cell_type": "markdown",
   "id": "6d4ae245",
   "metadata": {},
   "source": [
    "The term broadcasting describes how NumPy treats arrays during arithmetic operations. You can find more here:  https://numpy.org/doc/stable/user/basics.broadcasting.html"
   ]
  },
  {
   "cell_type": "code",
   "execution_count": 36,
   "id": "4f6bfad7",
   "metadata": {},
   "outputs": [
    {
     "data": {
      "text/plain": [
       "array([1991, 1992, 1993, 1994, 1995, 1996, 1997, 1998, 1999, 2000, 2001,\n",
       "       2002, 2003, 2004, 2005, 2006, 2007, 2008, 2009, 2010, 2011, 2012,\n",
       "       2013, 2014, 2015, 2016, 2017])"
      ]
     },
     "execution_count": 36,
     "metadata": {},
     "output_type": "execute_result"
    }
   ],
   "source": [
    "# multiplying an array with a scalar\n",
    "years = np.arange(1991, 2018, 1)\n",
    "years * 1"
   ]
  },
  {
   "cell_type": "code",
   "execution_count": 37,
   "id": "58f33828",
   "metadata": {},
   "outputs": [
    {
     "data": {
      "text/plain": [
       "array([1993, 1994, 1995, 1996, 1997, 1998, 1999, 2000, 2001, 2002, 2003,\n",
       "       2004, 2005, 2006, 2007, 2008, 2009, 2010, 2011, 2012, 2013, 2014,\n",
       "       2015, 2016, 2017, 2018, 2019])"
      ]
     },
     "execution_count": 37,
     "metadata": {},
     "output_type": "execute_result"
    }
   ],
   "source": [
    "# adding a scalar\n",
    "years + 2"
   ]
  },
  {
   "cell_type": "code",
   "execution_count": 38,
   "id": "d1c150bf",
   "metadata": {},
   "outputs": [
    {
     "name": "stdout",
     "output_type": "stream",
     "text": [
      "Array a: [0 1 2]\n",
      "Array b: [0 1 2]\n",
      "Sum of a and b: [0 2 4]\n"
     ]
    }
   ],
   "source": [
    "# many arithmetic operations are applied element wise on a pair of arrays\n",
    "a = np.arange(3)\n",
    "print('Array a:', a)\n",
    "b = np.arange(3)\n",
    "print('Array b:', b)\n",
    "print('Sum of a and b:', a+b)"
   ]
  },
  {
   "cell_type": "code",
   "execution_count": 39,
   "id": "9718c167",
   "metadata": {},
   "outputs": [
    {
     "name": "stdout",
     "output_type": "stream",
     "text": [
      "Array a: [[1. 1. 1.]\n",
      " [1. 1. 1.]\n",
      " [1. 1. 1.]]\n",
      "\n",
      "Array b: [0 1 2]\n",
      "\n",
      "Sum of a and b: [[1. 2. 3.]\n",
      " [1. 2. 3.]\n",
      " [1. 2. 3.]]\n"
     ]
    }
   ],
   "source": [
    "# another example\n",
    "a = np.ones((3, 3))\n",
    "print('Array a:', a)\n",
    "b = np.arange(3)\n",
    "print('\\nArray b:', b)\n",
    "print('\\nSum of a and b:', a+b)"
   ]
  },
  {
   "cell_type": "markdown",
   "id": "a2106423",
   "metadata": {},
   "source": [
    "---\n",
    "#### <span style=\"color:chocolate\">Exercise 9:</span> Numpy array standardization (10 points)"
   ]
  },
  {
   "cell_type": "markdown",
   "id": "b928ab75",
   "metadata": {},
   "source": [
    "Consider the following (10, 4) array:"
   ]
  },
  {
   "cell_type": "code",
   "execution_count": 40,
   "id": "1daf0061",
   "metadata": {},
   "outputs": [
    {
     "name": "stdout",
     "output_type": "stream",
     "text": [
      "my_array shape:  (10, 4)\n"
     ]
    },
    {
     "data": {
      "text/plain": [
       "array([[0.21016735, 0.61678503, 0.80899679, 0.19483214],\n",
       "       [0.05689084, 0.3854702 , 0.19928717, 0.06044197],\n",
       "       [0.67652125, 0.70232263, 0.79431666, 0.6454788 ],\n",
       "       [0.49352751, 0.07064477, 0.9610726 , 0.53677149],\n",
       "       [0.49353531, 0.31703342, 0.83742693, 0.67216598],\n",
       "       [0.44434244, 0.03971602, 0.28935434, 0.45599474],\n",
       "       [0.74467123, 0.61079096, 0.06542218, 0.66556713],\n",
       "       [0.2572641 , 0.97306546, 0.4364062 , 0.5253341 ],\n",
       "       [0.02252678, 0.40324393, 0.92899243, 0.58421915],\n",
       "       [0.02284766, 0.28826439, 0.19067166, 0.68726282]])"
      ]
     },
     "execution_count": 40,
     "metadata": {},
     "output_type": "execute_result"
    }
   ],
   "source": [
    "my_array = np.random.random((10, 4))\n",
    "print('my_array shape: ', my_array.shape)\n",
    "my_array"
   ]
  },
  {
   "cell_type": "markdown",
   "id": "d24063b3",
   "metadata": {},
   "source": [
    "Peform the following operations on this array:\n",
    "1. Compute and print the mean and std for each column (note: set keepdims=True for proper broadcasting).\n",
    "2. Standardize and print the array and its shape using the mean and std you computed above."
   ]
  },
  {
   "cell_type": "code",
   "execution_count": 41,
   "id": "7970e2fe",
   "metadata": {},
   "outputs": [
    {
     "name": "stdout",
     "output_type": "stream",
     "text": [
      "mean= [[0.34222945 0.44073368 0.5511947  0.50280683]]\n",
      "std= [[0.25302454 0.2743189  0.33011477 0.20262483]]\n",
      "\n",
      "standardized array:\n",
      " [[-0.52193396  0.64177624  0.78094686 -1.51992568]\n",
      " [-1.12771119 -0.20145707 -1.06601571 -2.183172  ]\n",
      " [ 1.32118333  0.95359433  0.73647711  0.70411888]\n",
      " [ 0.59795806 -1.34911927  1.24162245  0.16762338]\n",
      " [ 0.59798888 -0.45093596  0.86706885  0.83582621]\n",
      " [ 0.40356954 -1.46186667 -0.79317977 -0.2310284 ]\n",
      " [ 1.59052471  0.6199255  -1.47152615  0.80325937]\n",
      " [-0.33579884  1.94055813 -0.347723    0.11117721]\n",
      " [-1.26352434 -0.13666485  1.14444359  0.40178844]\n",
      " [-1.26225618 -0.55581039 -1.09211423  0.91033259]]\n",
      "shape = (10, 4)\n"
     ]
    }
   ],
   "source": [
    "np.random.seed(seed=1)\n",
    "\n",
    "# YOUR CODE HERE\n",
    "# 1. Compute and print the mean and std for each column (note: set keepdims=True for proper broadcasting).\n",
    "mean = np.mean(my_array, axis=0, keepdims=True)\n",
    "std = np.std(my_array, axis=0, keepdims=True)\n",
    "\n",
    "print(\"mean=\", mean)\n",
    "print(\"std=\", std)\n",
    "\n",
    "# 2. Standardize and print the array and its shape using the mean and std you computed above.\n",
    "\n",
    "standardized_array = (my_array - mean) / std\n",
    "print(\"\\nstandardized array:\\n\", standardized_array)\n",
    "\n",
    "print(\"shape =\", standardized_array.shape)\n",
    "\n"
   ]
  },
  {
   "cell_type": "markdown",
   "id": "87de03c8",
   "metadata": {},
   "source": [
    "----\n",
    "#### <span style=\"color:chocolate\">Bonus question:</span> Advanced (20 points)"
   ]
  },
  {
   "cell_type": "markdown",
   "id": "ab1f9870",
   "metadata": {},
   "source": []
  },
  {
   "cell_type": "markdown",
   "id": "b3c84045",
   "metadata": {},
   "source": [
    "Consider the following image:"
   ]
  },
  {
   "cell_type": "code",
   "execution_count": 42,
   "id": "9483dfe7",
   "metadata": {},
   "outputs": [
    {
     "name": "stdout",
     "output_type": "stream",
     "text": [
      "[[0.   0.04 0.08 0.12 0.16]\n",
      " [0.2  0.24 0.28 0.32 0.36]\n",
      " [0.4  0.44 0.48 0.52 0.56]\n",
      " [0.6  0.64 0.68 0.72 0.76]\n",
      " [0.8  0.84 0.88 0.92 0.96]]\n"
     ]
    },
    {
     "data": {
      "text/plain": [
       "(5, 5)"
      ]
     },
     "execution_count": 42,
     "metadata": {},
     "output_type": "execute_result"
    }
   ],
   "source": [
    "my_image = np.arange(0, 1, 0.04).reshape(5,5)\n",
    "print(my_image)\n",
    "my_image.shape"
   ]
  },
  {
   "cell_type": "markdown",
   "id": "364e6cf2",
   "metadata": {},
   "source": [
    "Perform the following operations on this image (do not overwrite the original image):\n",
    "\n",
    "1. Crop by using a border of size 1;\n",
    "2. Crop by using a border of size 2;\n",
    "3. Reverse the column order;\n",
    "4. set to 0.5 elements divizible by 2."
   ]
  },
  {
   "cell_type": "code",
   "execution_count": 43,
   "id": "02da4aaa",
   "metadata": {},
   "outputs": [
    {
     "name": "stdout",
     "output_type": "stream",
     "text": [
      "[[0.24 0.28 0.32]\n",
      " [0.44 0.48 0.52]\n",
      " [0.64 0.68 0.72]]\n"
     ]
    }
   ],
   "source": [
    "# 1. Crop by using a border of size 1\n",
    "crop1 = my_image[1:-1, 1:-1]\n",
    "print(crop1)"
   ]
  },
  {
   "cell_type": "code",
   "execution_count": 44,
   "id": "ca9b5dc0",
   "metadata": {},
   "outputs": [
    {
     "name": "stdout",
     "output_type": "stream",
     "text": [
      "[[0.48]]\n"
     ]
    }
   ],
   "source": [
    "# 2. Crop by using a border of size 2\n",
    "crop2 = my_image[2:-2, 2:-2]\n",
    "print(crop2)"
   ]
  },
  {
   "cell_type": "code",
   "execution_count": 45,
   "id": "837e6479",
   "metadata": {},
   "outputs": [
    {
     "name": "stdout",
     "output_type": "stream",
     "text": [
      "[[0.16 0.12 0.08 0.04 0.  ]\n",
      " [0.36 0.32 0.28 0.24 0.2 ]\n",
      " [0.56 0.52 0.48 0.44 0.4 ]\n",
      " [0.76 0.72 0.68 0.64 0.6 ]\n",
      " [0.96 0.92 0.88 0.84 0.8 ]]\n"
     ]
    }
   ],
   "source": [
    "# 3. Reverse the column order\n",
    "reverse_cols = my_image[:, ::-1]\n",
    "print(reverse_cols)"
   ]
  },
  {
   "cell_type": "code",
   "execution_count": 46,
   "id": "d131c7f3",
   "metadata": {},
   "outputs": [
    {
     "name": "stdout",
     "output_type": "stream",
     "text": [
      "[[0.   0.04 0.08 0.12 0.16]\n",
      " [0.2  0.24 0.28 0.32 0.36]\n",
      " [0.4  0.44 0.48 0.52 0.56]\n",
      " [0.6  0.64 0.68 0.72 0.76]\n",
      " [0.8  0.84 0.88 0.92 0.96]]\n",
      "[[0.5  0.04 0.08 0.12 0.16]\n",
      " [0.2  0.24 0.28 0.32 0.36]\n",
      " [0.4  0.44 0.48 0.52 0.56]\n",
      " [0.6  0.64 0.68 0.72 0.76]\n",
      " [0.8  0.84 0.88 0.92 0.96]]\n"
     ]
    }
   ],
   "source": [
    "# 4. Set to 0.5 elements divisible by 2\n",
    "modified_elements = my_image.copy()\n",
    "print(modified_elements)\n",
    "\n",
    "modified_elements[modified_elements % 2 == 0] = 0.5\n",
    "print(modified_elements)"
   ]
  },
  {
   "cell_type": "code",
   "execution_count": 47,
   "id": "7b098253",
   "metadata": {},
   "outputs": [
    {
     "data": {
      "text/plain": [
       "<matplotlib.image.AxesImage at 0x119909160>"
      ]
     },
     "execution_count": 47,
     "metadata": {},
     "output_type": "execute_result"
    },
    {
     "data": {
      "image/png": "[encoded data removed]",
      "text/plain": [
       "<Figure size 400x400 with 1 Axes>"
      ]
     },
     "metadata": {},
     "output_type": "display_data"
    }
   ],
   "source": [
    "import matplotlib.pyplot as plt\n",
    "\n",
    "# Plot the original image\n",
    "plt.figure(figsize=(4, 4))\n",
    "plt.imshow(my_image, cmap='Blues')\n"
   ]
  },
  {
   "cell_type": "code",
   "execution_count": 48,
   "id": "1825ed2e",
   "metadata": {},
   "outputs": [
    {
     "data": {
      "text/plain": [
       "<matplotlib.image.AxesImage at 0x119ab6ca0>"
      ]
     },
     "execution_count": 48,
     "metadata": {},
     "output_type": "execute_result"
    },
    {
     "data": {
      "image/png": "[encoded data removed]",
      "text/plain": [
       "<Figure size 400x400 with 1 Axes>"
      ]
     },
     "metadata": {},
     "output_type": "display_data"
    }
   ],
   "source": [
    "# Plot the image after setting elements divisible by 2 to 0.5\n",
    "plt.figure(figsize=(4,4))\n",
    "plt.imshow(modified_elements, cmap='Blues')"
   ]
  },
  {
   "cell_type": "code",
   "execution_count": null,
   "id": "feff05f3",
   "metadata": {},
   "outputs": [],
   "source": []
  }
 ],
 "metadata": {
  "kernelspec": {
   "display_name": "Python 3",
   "language": "python",
   "name": "python3"
  },
  "language_info": {
   "codemirror_mode": {
    "name": "ipython",
    "version": 3
   },
   "file_extension": ".py",
   "mimetype": "text/x-python",
   "name": "python",
   "nbconvert_exporter": "python",
   "pygments_lexer": "ipython3",
   "version": "3.9.19"
  }
 },
 "nbformat": 4,
 "nbformat_minor": 5
}
