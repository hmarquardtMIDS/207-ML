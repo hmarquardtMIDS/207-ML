{
 "cells": [
  {
   "cell_type": "markdown",
   "metadata": {
    "id": "rHLcriKWLRe4"
   },
   "source": [
    "# Assignement 2"
   ]
  },
  {
   "cell_type": "markdown",
   "metadata": {},
   "source": [
    "### <span style=\"color:chocolate\"> Submission requirements </span>\n",
    "\n",
    "Your homework will not be graded if your notebook doesn't include output. In other words, <span style=\"color:red\"> make sure to rerun your notebook before submitting to Gradescope </span> (Note: if you are using Google Colab: go to Edit > Notebook Settings  and uncheck Omit code cell output when saving this notebook, otherwise the output is not printed).\n",
    "\n",
    "Additional points may be deducted if these requirements are not met:\n",
    "    \n",
    "* Comment your code;\n",
    "* Each graph should have a title, labels for each axis, and (if needed) a legend. Each graph should be understandable on its own;\n",
    "* Try and minimize the use of the global namespace (meaning, keep things inside functions).\n",
    "---"
   ]
  },
  {
   "cell_type": "markdown",
   "metadata": {},
   "source": [
    "### Import libraries"
   ]
  },
  {
   "cell_type": "code",
   "execution_count": 123,
   "metadata": {
    "id": "7X58hOMTUH-w"
   },
   "outputs": [],
   "source": [
    "import numpy as np\n",
    "from sklearn.model_selection import train_test_split\n",
    "from sklearn.metrics import mean_squared_error\n",
    "import matplotlib.pyplot as plt"
   ]
  },
  {
   "cell_type": "markdown",
   "metadata": {},
   "source": [
    "### Define functions"
   ]
  },
  {
   "cell_type": "code",
   "execution_count": 124,
   "metadata": {},
   "outputs": [],
   "source": [
    "def create_1d_data(num_examples, w, b, bound):\n",
    "  \"\"\"Create X, Y data with a linear relationship with added noise.\n",
    "\n",
    "  Args:\n",
    "    num_examples: number of examples to generate\n",
    "    w: desired slope\n",
    "    b: desired intercept\n",
    "    bound: lower and upper boundary of the data interval\n",
    "\n",
    "  Returns:\n",
    "    X and Y with shape (num_examples)\n",
    "  \"\"\"\n",
    "  np.random.seed(4)  # consistent random number generation\n",
    "  X = np.arange(num_examples)\n",
    "  deltas = np.random.uniform(low= -bound, high=bound, size=X.shape) # added noise\n",
    "  Y = b + deltas + w * X\n",
    "\n",
    "  return X, Y"
   ]
  },
  {
   "cell_type": "markdown",
   "metadata": {},
   "source": [
    "---\n",
    "### Step 1: Data ingestion"
   ]
  },
  {
   "cell_type": "markdown",
   "metadata": {},
   "source": [
    "Let's start by creating some artificial data using the <span style=\"color:chocolate\">create_1d_data()</span> function defined at the top of the notebook."
   ]
  },
  {
   "cell_type": "code",
   "execution_count": 125,
   "metadata": {
    "id": "6qJg0IiYVJ8U"
   },
   "outputs": [
    {
     "name": "stdout",
     "output_type": "stream",
     "text": [
      "Printing shape of X: (70,)\n",
      "Printing first 10 elements in X: [0 1 2 3 4 5 6 7 8 9]\n",
      "\n",
      "Printing shape of Y: (70,)\n",
      "Printing first 10 elements in Y: [ 1.93405968  3.0944645   5.94536872  7.42963199  9.39545765 10.43217899\n",
      " 13.95254891 14.01246051 16.50596472 18.86958306]\n"
     ]
    }
   ],
   "source": [
    "# Define parameters\n",
    "num_examples = 70\n",
    "w = 2\n",
    "b = 1\n",
    "bound = 1\n",
    "\n",
    "# Create data\n",
    "X, Y = create_1d_data(num_examples, w, b, bound)\n",
    "\n",
    "# Print shapes\n",
    "print('Printing shape of X:', X.shape)\n",
    "print('Printing first 10 elements in X:', X[:10])\n",
    "print('\\nPrinting shape of Y:', Y.shape)\n",
    "print('Printing first 10 elements in Y:', Y[:10])"
   ]
  },
  {
   "cell_type": "markdown",
   "metadata": {
    "id": "8NXo1n9j1LMT"
   },
   "source": [
    "---\n",
    "### Step 2: Data Preprocessing"
   ]
  },
  {
   "cell_type": "markdown",
   "metadata": {},
   "source": [
    "Our objectives here involve adding one more feature to X and creating data partitions."
   ]
  },
  {
   "cell_type": "markdown",
   "metadata": {},
   "source": [
    "### <span style=\"color:chocolate\">Exercise 1:</span> Adding features (10 points)"
   ]
  },
  {
   "cell_type": "markdown",
   "metadata": {},
   "source": [
    "1. Add a column of $1s$ to $X$ (this will serve as an intercept or \"bias\" in our modeling task later on). Note: do not create a new array, just concatenate with the current values;\n",
    "2. Print the shape of the array."
   ]
  },
  {
   "cell_type": "code",
   "execution_count": 126,
   "metadata": {},
   "outputs": [
    {
     "data": {
      "text/plain": [
       "array([[1., 0.],\n",
       "       [1., 1.],\n",
       "       [1., 2.],\n",
       "       [1., 3.],\n",
       "       [1., 4.]])"
      ]
     },
     "execution_count": 126,
     "metadata": {},
     "output_type": "execute_result"
    }
   ],
   "source": [
    "# YOUR CODE HERE\n",
    "\n",
    "# create the column of ones\n",
    "ones_column = np.ones(X.shape[0])\n",
    "\n",
    "# add new column to X\n",
    "X = np.column_stack((ones_column, X))\n",
    "\n",
    "# preview results\n",
    "X[:5]"
   ]
  },
  {
   "cell_type": "code",
   "execution_count": 127,
   "metadata": {},
   "outputs": [
    {
     "name": "stdout",
     "output_type": "stream",
     "text": [
      "(70, 2)\n"
     ]
    }
   ],
   "source": [
    "# 2 - print shape of array\n",
    "print(X.shape)"
   ]
  },
  {
   "cell_type": "markdown",
   "metadata": {},
   "source": [
    "### <span style=\"color:chocolate\">Exercise 2:</span> Data splits (10 points)"
   ]
  },
  {
   "cell_type": "markdown",
   "metadata": {},
   "source": [
    "Using the <span style=\"color:chocolate\">train_test_split()</span> method available in scikit-learn:\n",
    "1. Split the (X,Y) data into training and test paritions by setting test_size=0.2 and random_state=1234. All the other arguments of the method are set to default values. Name the resulting arrays X_train, X_test, Y_train, Y_test;\n",
    "2. Print the shape of each array."
   ]
  },
  {
   "cell_type": "code",
   "execution_count": 128,
   "metadata": {},
   "outputs": [
    {
     "name": "stdout",
     "output_type": "stream",
     "text": [
      "X_train.shape = (56, 2)\n",
      "X_test.shape = (14, 2)\n",
      "Y_train.shape = (56,)\n",
      "Y_test.shape = (14,)\n"
     ]
    }
   ],
   "source": [
    "# YOUR CODE HERE\n",
    "\n",
    "# Split the X and Y into train and test sets\n",
    "X_train, X_test, Y_train, Y_test = train_test_split(X, Y, test_size=0.2, random_state=1234)\n",
    " \n",
    "# Print shape of each resulting array\n",
    "print(f\"{X_train.shape = }\")\n",
    "print(f\"{X_test.shape = }\")\n",
    "print(f\"{Y_train.shape = }\")\n",
    "print(f\"{Y_test.shape = }\")"
   ]
  },
  {
   "cell_type": "markdown",
   "metadata": {},
   "source": [
    "---\n",
    "### Step 3: Exploratory data analysis (EDA)"
   ]
  },
  {
   "cell_type": "markdown",
   "metadata": {},
   "source": [
    "### <span style=\"color:chocolate\">Exercise 3:</span> Plots (10 points)"
   ]
  },
  {
   "cell_type": "markdown",
   "metadata": {},
   "source": [
    "Create a side-by-side histogram for the values in Y_train and X_train. Make sure to include axes name and titles for each subplot."
   ]
  },
  {
   "cell_type": "code",
   "execution_count": 129,
   "metadata": {},
   "outputs": [
    {
     "data": {
      "image/png": "[encoded data removed]",
      "text/plain": [
       "<Figure size 1200x500 with 2 Axes>"
      ]
     },
     "metadata": {},
     "output_type": "display_data"
    }
   ],
   "source": [
    "# YOUR CODE HERE\n",
    "\n",
    "# Plotting histograms\n",
    "plt.figure(figsize=(12, 5))\n",
    "\n",
    "# Histogram for Y_train (left side)\n",
    "plt.subplot(1, 2, 1)\n",
    "plt.hist(Y_train, bins=15, edgecolor='black')\n",
    "plt.title('Histogram of Y_train')\n",
    "plt.xlabel('Y_train Value')\n",
    "plt.ylabel('Frequency')\n",
    "\n",
    "\n",
    "# Histogram for X_train (right side)\n",
    "plt.subplot(1, 2, 2)\n",
    "# need to isolate the second column of X_train which represents the original X values, because the first column is all ones\n",
    "plt.hist(X_train[:, 1],  bins=15, edgecolor='black')\n",
    "plt.title('Histogram of X_train')\n",
    "plt.xlabel('X_train value')\n",
    "plt.ylabel('Frequency')\n",
    "\n",
    "plt.tight_layout()\n",
    "plt.show()"
   ]
  },
  {
   "cell_type": "markdown",
   "metadata": {},
   "source": [
    "---\n",
    "### Step 4: Modeling"
   ]
  },
  {
   "cell_type": "markdown",
   "metadata": {},
   "source": [
    "Let's start by considering the two models proposed in Assignment 1:\n",
    "1. $M_1(x) = 5+x$ \n",
    "2. $M_2(x) = 1+2x$"
   ]
  },
  {
   "cell_type": "markdown",
   "metadata": {},
   "source": [
    "### <span style=\"color:chocolate\">Exercise 4:</span> Practice with Parameters (10 points)"
   ]
  },
  {
   "cell_type": "markdown",
   "metadata": {},
   "source": [
    "Perform the following computations:\n",
    "\n",
    "1. Use matrix multiplication (np.dot) to create $M_1$ and $M_2$ (as previously defined) to produce vectors of predictions using the X_train data. Call these predictions M1_hat_train, M2_hat_train. Hint: the \"learned\" parameters are alredy provided to you;\n",
    "3. Print the shapes of the predictions to verify that they match the shape of Y_train."
   ]
  },
  {
   "cell_type": "code",
   "execution_count": 130,
   "metadata": {
    "id": "aBEZ_QOX6qOi"
   },
   "outputs": [
    {
     "name": "stdout",
     "output_type": "stream",
     "text": [
      "Y_train.shape = (56,)\n",
      "M1_hat_train.shape = (56,)\n",
      "M2_hat_train.shape = (56,)\n"
     ]
    }
   ],
   "source": [
    "# YOUR CODE HERE\n",
    "\n",
    "def M1(x):\n",
    "    params = np.array([5,1])\n",
    "    return np.dot(x, params)\n",
    "\n",
    "def M2(x):\n",
    "    params = np.array([1,2])\n",
    "    return np.dot(x, params)\n",
    "\n",
    "M1_hat_train = M1(X_train)\n",
    "M2_hat_train = M2(X_train)\n",
    "\n",
    "# verify that the shapes match\n",
    "print(f\"{Y_train.shape = }\")\n",
    "print(f\"{M1_hat_train.shape = }\")\n",
    "print(f\"{M2_hat_train.shape = }\")"
   ]
  },
  {
   "cell_type": "markdown",
   "metadata": {},
   "source": [
    "### <span style=\"color:chocolate\">Exercise 5:</span> Learn parameters with Gradient Descent (20 points)"
   ]
  },
  {
   "cell_type": "markdown",
   "metadata": {
    "id": "QaXYiTm9ftRf"
   },
   "source": [
    "1. Fill in the <span style=\"color:green\">NotImplemented</span> parts of the <span style=\"color:chocolate\">gradient_descent()</span> function below. Hint: refer to ``02 Linear Regression_helper.ipynb file``;\n",
    "\n",
    "2. Run this function with our artificial (X_train, Y_train) data . Set learning_rate = .0002 and num_epochs = 5. Print out the weights and loss after each epoch. \n",
    "\n",
    "3. Generate a plot with the loss values on the y-axis and the epoch number on the x-axis for visualization. Make sure to include axes name and title."
   ]
  },
  {
   "cell_type": "code",
   "execution_count": 135,
   "metadata": {
    "id": "_hP9rzDyFXTg"
   },
   "outputs": [],
   "source": [
    "def gradient_descent(inputs, outputs, learning_rate, num_epochs):\n",
    "  \"\"\"Apply the gradient descent algorithm to learn learn linear regression.\n",
    "\n",
    "  Args:\n",
    "    inputs: A 2-D array where each column is an input feature and each \\\n",
    "            row is a training example.\n",
    "    outputs: A 1-D array containing the real-valued label corresponding \\\n",
    "             to the input data in the same row.\n",
    "    learning_rate: The learning rate to use for updates.\n",
    "    num_epochs: The number of passes through the full training data.\n",
    "\n",
    "  Returns:\n",
    "    weights: A 2-D array with the learned weights after each training epoch.\n",
    "    losses: A 1-D array with the loss after each epoch.\n",
    "\"\"\"\n",
    "  # m = number of examples, n = number of features\n",
    "  m, n = inputs.shape\n",
    "  \n",
    "  # We'll use a vector of size n to store the learned weights and initialize\n",
    "  # all weights to 1. \n",
    "  W = np.ones(n)\n",
    "  \n",
    "  # Keep track of the training loss and weights after each step.\n",
    "  losses = []\n",
    "  weights = []\n",
    "  \n",
    "  for epoch in range(num_epochs):\n",
    "    # Append the old weights to the weights list to keep track of them.\n",
    "    weights.append(W)\n",
    "    \n",
    "    # Evaluate the current predictions for the training examples given\n",
    "    # the current estimate of W (you did this in exercise 4). \n",
    "    predictions = np.dot(inputs, W)\n",
    "    \n",
    "    # Find the difference between the predictions and the actual target\n",
    "    # values.\n",
    "    diff = predictions - outputs\n",
    "\n",
    "    # In standard linear regression, we want to minimize the sum of squared\n",
    "    # differences. Compute the mean squared error loss. Don't bother with the\n",
    "    # 1/2 scaling factor here.\n",
    "    loss = np.mean(diff**2)\n",
    "    \n",
    "    # Append the loss to the losses list to keep a track of it.\n",
    "    losses.append(loss)\n",
    "    \n",
    "    # Compute the gradient with respect to the loss.\n",
    "    # [Formula (4) in the Gradient Descent Implementation]\n",
    "    gradient = (1 / m) * np.dot(diff, inputs)\n",
    "\n",
    "    # Update weights, scaling the gradient by the learning rate.\n",
    "    W = W - learning_rate * gradient\n",
    "    \n",
    "    # Print the weights and loss after each epoch\n",
    "    print(f\"{epoch = }: {W = }, {loss = }\")\n",
    "\n",
    "  return np.array(weights), np.array(losses)"
   ]
  },
  {
   "cell_type": "code",
   "execution_count": 136,
   "metadata": {},
   "outputs": [
    {
     "name": "stdout",
     "output_type": "stream",
     "text": [
      "epoch = 0: W = array([1.00709394, 1.33262886]), loss = 1665.3666608648086\n",
      "epoch = 1: W = array([1.01183193, 1.55469157]), loss = 742.4148662596615\n",
      "epoch = 2: W = array([1.01499708, 1.7029404 ]), loss = 331.0657262384294\n",
      "epoch = 3: W = array([1.01711221, 1.80191116]), loss = 147.73208292579974\n",
      "epoch = 4: W = array([1.01852634, 1.8679839 ]), loss = 66.0223586320446\n"
     ]
    }
   ],
   "source": [
    "# YOUR CODE HERE\n",
    "weights, losses = gradient_descent(X_train, Y_train, learning_rate=0.0002, num_epochs=5)"
   ]
  },
  {
   "cell_type": "code",
   "execution_count": 137,
   "metadata": {},
   "outputs": [
    {
     "data": {
      "image/png": "[encoded data removed]",
      "text/plain": [
       "<Figure size 1200x500 with 1 Axes>"
      ]
     },
     "metadata": {},
     "output_type": "display_data"
    }
   ],
   "source": [
    "# YOUR CODE HERE\n",
    "\n",
    "# create the figure\n",
    "plt.figure(figsize=(12, 5))\n",
    "\n",
    "# plot the data\n",
    "plt.plot(range(len(losses)), losses, marker='o')\n",
    "\n",
    "# decorate the plot\n",
    "plt.title('Loss vs Epoch Number')\n",
    "plt.xlabel('Epoch Number')\n",
    "plt.xticks(range(0,len(losses), 1))\n",
    "plt.ylabel('Loss')\n",
    "plt.ylim(bottom=0)\n",
    "\n",
    "plt.show()"
   ]
  },
  {
   "cell_type": "markdown",
   "metadata": {},
   "source": [
    "---\n",
    "### Step 5: Hyperparameter tuning"
   ]
  },
  {
   "cell_type": "markdown",
   "metadata": {},
   "source": [
    "Hyperparameter tuning plays an important role in optimizing ML models. One systematically adjusts hyperparameters to find the right balance between model complexity and generalization, ultimately leading to better predictive performance and model effectiveness.\n",
    "\n",
    "Note that hyperparameter tuning is typically performed on **a separate validation dataset**. However, for the purposes of this assignment and based on the ML knowledge you've acquired thus far, we will perform hyperparameter tuning directly on the training data."
   ]
  },
  {
   "cell_type": "markdown",
   "metadata": {},
   "source": [
    "### <span style=\"color:chocolate\">Exercise 6:</span> Tuning hyperparameters (10 points)"
   ]
  },
  {
   "cell_type": "markdown",
   "metadata": {},
   "source": [
    "Answer the following questions:\n",
    "    \n",
    "1. Do you think it would be beneficial to extend the model training in Exercise 5 by increasing the learning rate to 0.02? Justify your answer;\n",
    "\n",
    "2. Restoring to the previous learning_rate = .0002, would you  consider extending the model training in Exercise 5 by increasing the number of epochs to 10? Justify your answer.\n",
    "\n",
    "Note: to support your answers, we recommend the following actions:\n",
    "- create side-by-side subplots to show the loss at each epoch (make sure to include axes name and title), and\n",
    "- print the loss at the last epoch under the following scenarios:\n",
    "    - learning_rate=.0002, num_epochs=5;\n",
    "    - learning_rate=.02, num_epochs=5;\n",
    "    - learning_rate=.0002, num_epochs=10."
   ]
  },
  {
   "cell_type": "code",
   "execution_count": 138,
   "metadata": {},
   "outputs": [],
   "source": [
    "# YOUR ANSWERS HERE\n",
    "\"\"\"\n",
    "1)  I do not think it will be beneficial to increase the learning rate. This is a very simple model to learn, so \n",
    "    increasing the rate that much will cause the model to jump over the loss function minimum. As you can see in\n",
    "    the plots below, a learning rate of .02 actually makes the loss increase with each epoch. \n",
    "\n",
    "2)  I would consider extending the number of epochs becasue the loss is continuing to decrease with a learning \n",
    "    rate of .0002 after 5 epochs and will likely continue to decrease if given more time to train. \n",
    "\n",
    "For example, here is the final loss after training with the following hpyerparameters: \n",
    "learning_rate= .0002, num_epochs= 5  -> 66.02\n",
    "learning_rate= .02, num_epochs= 5    -> 1943544404976516.2\n",
    "learning_rate= .0002, num_epochs= 10 -> 1.47\n",
    "\"\"\"\n",
    "pass"
   ]
  },
  {
   "cell_type": "code",
   "execution_count": 139,
   "metadata": {},
   "outputs": [],
   "source": [
    "# YOUR CODE HERE"
   ]
  },
  {
   "cell_type": "code",
   "execution_count": 140,
   "metadata": {},
   "outputs": [
    {
     "name": "stdout",
     "output_type": "stream",
     "text": [
      "epoch = 0: W = array([1.00709394, 1.33262886]), loss = 1665.3666608648086\n",
      "epoch = 1: W = array([1.01183193, 1.55469157]), loss = 742.4148662596615\n",
      "epoch = 2: W = array([1.01499708, 1.7029404 ]), loss = 331.0657262384294\n",
      "epoch = 3: W = array([1.01711221, 1.80191116]), loss = 147.73208292579974\n",
      "epoch = 4: W = array([1.01852634, 1.8679839 ]), loss = 66.0223586320446\n"
     ]
    }
   ],
   "source": [
    "weights0002, losses0002 = gradient_descent(X_train, Y_train, learning_rate=0.0002, num_epochs=5)"
   ]
  },
  {
   "cell_type": "code",
   "execution_count": 141,
   "metadata": {},
   "outputs": [
    {
     "name": "stdout",
     "output_type": "stream",
     "text": [
      "epoch = 0: W = array([ 1.70939419, 34.26288605]), loss = 1665.3666608648086\n",
      "epoch = 1: W = array([  -21.14077098, -1038.13576669]), loss = 1730683.4233130235\n",
      "epoch = 2: W = array([  715.57111348, 33536.08547039]), loss = 1798911746.516617\n",
      "epoch = 3: W = array([  -23036.06070114, -1081139.68066399]), loss = 1869830168587.4255\n",
      "epoch = 4: W = array([  742718.54314852, 34856099.64525088]), loss = 1943544404976516.2\n"
     ]
    }
   ],
   "source": [
    "weights02, losses02 = gradient_descent(X_train, Y_train, learning_rate=0.02, num_epochs=5)"
   ]
  },
  {
   "cell_type": "code",
   "execution_count": 142,
   "metadata": {},
   "outputs": [
    {
     "name": "stdout",
     "output_type": "stream",
     "text": [
      "epoch = 0: W = array([1.00709394, 1.33262886]), loss = 1665.3666608648086\n",
      "epoch = 1: W = array([1.01183193, 1.55469157]), loss = 742.4148662596615\n",
      "epoch = 2: W = array([1.01499708, 1.7029404 ]), loss = 331.0657262384294\n",
      "epoch = 3: W = array([1.01711221, 1.80191116]), loss = 147.73208292579974\n",
      "epoch = 4: W = array([1.01852634, 1.8679839 ]), loss = 66.0223586320446\n",
      "epoch = 5: W = array([1.01947249, 1.91209397]), loss = 29.60526166333263\n",
      "epoch = 6: W = array([1.02010622, 1.94154177]), loss = 13.374574644284786\n",
      "epoch = 7: W = array([1.02053137, 1.96120106]), loss = 6.14074143396102\n",
      "epoch = 8: W = array([1.02081727, 1.97432553]), loss = 2.9167038563240735\n",
      "epoch = 9: W = array([1.02101022, 1.98308738]), loss = 1.479786682981072\n"
     ]
    }
   ],
   "source": [
    "weights0002_10, losses0002_10 = gradient_descent(X_train, Y_train, learning_rate=0.0002, num_epochs=10)"
   ]
  },
  {
   "cell_type": "code",
   "execution_count": 145,
   "metadata": {},
   "outputs": [
    {
     "data": {
      "image/png": "[encoded data removed]",
      "text/plain": [
       "<Figure size 1500x500 with 3 Axes>"
      ]
     },
     "metadata": {},
     "output_type": "display_data"
    }
   ],
   "source": [
    "# Plots\n",
    "plt.figure(figsize=(15, 5))\n",
    "\n",
    "# plot the original data with learning rate = .0002\n",
    "plt.subplot(1, 3, 1)\n",
    "plt.plot(range(len(losses0002)), losses0002, marker='o')\n",
    "plt.title('Loss fpr 5 Epochs w/ learning_rate = .0002')\n",
    "plt.xlabel('Epoch Number')\n",
    "plt.xticks(range(0,len(losses0002), 1))\n",
    "plt.ylabel('Loss')\n",
    "plt.ylim(bottom=0)\n",
    "\n",
    "# plot the original data with learning rate = .0002\n",
    "plt.subplot(1, 3, 2)\n",
    "plt.plot(range(len(losses02)), losses02, marker='o')\n",
    "plt.title('Loss for 5 Epochs w/ learning_rate = .02')\n",
    "plt.xlabel('Epoch Number')\n",
    "plt.xticks(range(0,len(losses02), 1))\n",
    "plt.ylabel('Loss')\n",
    "plt.ylim(bottom=0)\n",
    "\n",
    "# plot the original data with learning rate = .0002 and 10 epochs\n",
    "plt.subplot(1, 3, 3)\n",
    "plt.plot(range(len(losses0002_10)), losses0002_10, marker='o')\n",
    "plt.title('Loss for 10 Epochs w/ learning_rate = .0002')\n",
    "plt.xlabel('Epoch Number')\n",
    "plt.xticks(range(0,len(losses0002_10), 1))\n",
    "plt.ylabel('Loss')\n",
    "plt.ylim(bottom=0)\n",
    "\n",
    "plt.tight_layout()\n",
    "plt.show()"
   ]
  },
  {
   "cell_type": "markdown",
   "metadata": {},
   "source": [
    "### <span style=\"color:chocolate\">Exercise 7:</span> Choosing the best model (10 points)"
   ]
  },
  {
   "cell_type": "markdown",
   "metadata": {},
   "source": [
    "Write down the learned model that you consider most optimal given your answers to the hyperparameter tuning exercise. Call this model $M_3(x)$."
   ]
  },
  {
   "cell_type": "code",
   "execution_count": 96,
   "metadata": {},
   "outputs": [
    {
     "name": "stdout",
     "output_type": "stream",
     "text": [
      "epoch = 0: W = array([1.00709394, 1.33262886]), loss = 1665.3666608648086\n",
      "epoch = 1: W = array([1.01183193, 1.55469157]), loss = 742.4148662596615\n",
      "epoch = 2: W = array([1.01499708, 1.7029404 ]), loss = 331.0657262384294\n",
      "epoch = 3: W = array([1.01711221, 1.80191116]), loss = 147.73208292579974\n",
      "epoch = 4: W = array([1.01852634, 1.8679839 ]), loss = 66.0223586320446\n",
      "epoch = 5: W = array([1.01947249, 1.91209397]), loss = 29.60526166333263\n",
      "epoch = 6: W = array([1.02010622, 1.94154177]), loss = 13.374574644284786\n",
      "epoch = 7: W = array([1.02053137, 1.96120106]), loss = 6.14074143396102\n",
      "epoch = 8: W = array([1.02081727, 1.97432553]), loss = 2.9167038563240735\n",
      "epoch = 9: W = array([1.02101022, 1.98308738]), loss = 1.479786682981072\n"
     ]
    }
   ],
   "source": [
    "# YOUR ANSWER HERE\n",
    "\n",
    "# These weights make up the best model so far:\n",
    "weights, losses = gradient_descent(X_train, Y_train, learning_rate=0.0002, num_epochs=10)\n",
    "best_weights = weights[-1, :]\n",
    "\n",
    "def M3(X):\n",
    "    params = best_weights\n",
    "    return np.dot(X, params)"
   ]
  },
  {
   "cell_type": "markdown",
   "metadata": {},
   "source": [
    "---\n",
    "### Step 6: Evaluation and Generalization"
   ]
  },
  {
   "cell_type": "markdown",
   "metadata": {},
   "source": [
    "To evaluate our models, we assess their performance based on how closely they fit the available data. In other words, we compare the true value $y$ with the predicted value $\\hat{y}$ for each $x$."
   ]
  },
  {
   "cell_type": "markdown",
   "metadata": {},
   "source": [
    "### <span style=\"color:chocolate\">Exercise 8:</span> Computing MSE (10 points)"
   ]
  },
  {
   "cell_type": "markdown",
   "metadata": {},
   "source": [
    "Assess the performance of the three models ($M_1(x)$, $M_2(x)$, $M_3(x)$) by computing the MSE metric on the training dataset. Hint: you can use the <span style=\"color:chocolate\">mean_squared_error()</span> method available in sklearn.metrics."
   ]
  },
  {
   "cell_type": "code",
   "execution_count": 148,
   "metadata": {},
   "outputs": [
    {
     "name": "stdout",
     "output_type": "stream",
     "text": [
      "mse1 = 1397.608983658733\n",
      "mse2 = 0.3280557752885262\n",
      "mse3 = 1.479786682981072\n"
     ]
    }
   ],
   "source": [
    "# YOUR CODE HERE\n",
    "# NOTE: I'm assuming there is a typo in the question and we should be computing the MSE of the 3 models on the TEST dataset, not the TRAINING dataset...? \n",
    "\n",
    "mse1 = mean_squared_error(Y_train, M1(X_train))\n",
    "mse2 = mean_squared_error(Y_train, M2(X_train))\n",
    "mse3 = mean_squared_error(Y_train, M3(X_train))\n",
    "\n",
    "print(f\"{mse1 = }\")\n",
    "print(f\"{mse2 = }\")\n",
    "print(f\"{mse3 = }\")"
   ]
  },
  {
   "cell_type": "markdown",
   "metadata": {},
   "source": [
    "### <span style=\"color:chocolate\">Exercise 9:</span> Generalization (10 points)"
   ]
  },
  {
   "cell_type": "markdown",
   "metadata": {},
   "source": [
    "Which of the three models ($M_1(x)$, $M_2(x)$, $M_3(x)$) demonstrates better generalization ability?"
   ]
  },
  {
   "cell_type": "code",
   "execution_count": 149,
   "metadata": {},
   "outputs": [
    {
     "name": "stdout",
     "output_type": "stream",
     "text": [
      "mse1 = 1113.6003911560044\n",
      "mse2 = 0.2908006971666422\n",
      "mse3 = 1.066053488198779\n"
     ]
    }
   ],
   "source": [
    "# YOUR CODE HERE\n",
    "\n",
    "# M2 demonstrates the best generalization ability, given that it has the smallest loss on the unseen test data among the 3 models. M3 also shows very good generalizability, but it is not as good as M2. \n",
    "\n",
    "mse1 = mean_squared_error(Y_test, M1(X_test))\n",
    "mse2 = mean_squared_error(Y_test, M2(X_test))\n",
    "mse3 = mean_squared_error(Y_test, M3(X_test))\n",
    "\n",
    "print(f\"{mse1 = }\")\n",
    "print(f\"{mse2 = }\")\n",
    "print(f\"{mse3 = }\")"
   ]
  },
  {
   "cell_type": "markdown",
   "metadata": {},
   "source": [
    "----\n",
    "#### <span style=\"color:chocolate\">Bonus question</span> (20 points)"
   ]
  },
  {
   "cell_type": "markdown",
   "metadata": {},
   "source": [
    "1. How does stochastic gradient descent (SGD) differ from the gradient descent (GD) approach implemented in Exercise 5?\n",
    "2. Determine the optimal weights for model $M_3(x)$ using SGD. Does SGD converge more rapidly? Explain the reasons for your answer."
   ]
  },
  {
   "cell_type": "code",
   "execution_count": 99,
   "metadata": {},
   "outputs": [],
   "source": [
    "# YOUR ANSWER HERE\n",
    "\n",
    "# GD is implemented above and it calculates the gradient based on the entire training set before updating the weights in each epoch. \n",
    "# SDG is different because it calculates the gradient and updates the weights for each training example, one at a time, for each epoch.  \n"
   ]
  },
  {
   "cell_type": "code",
   "execution_count": 120,
   "metadata": {},
   "outputs": [],
   "source": [
    "import numpy as np\n",
    "\n",
    "def stochastic_gradient_descent(inputs, outputs, learning_rate, num_epochs):\n",
    "    \"\"\"Apply the gradient descent algorithm to learn linear regression.\n",
    "\n",
    "    Args:\n",
    "        inputs: A 2-D array where each column is an input feature and each \\\n",
    "            row is a training example.\n",
    "        outputs: A 1-D array containing the real-valued label corresponding \\\n",
    "            to the input data in the same row.\n",
    "        learning_rate: The learning rate to use for updates.\n",
    "        num_epochs: The number of passes through the full training data.\n",
    "\n",
    "    Returns:\n",
    "        weights: A 1-D array with the learned weights after the final training epoch.\n",
    "        losses: A 1-D array with the loss after the final training epoch.\n",
    "    \"\"\"\n",
    "    inputs = inputs.copy()\n",
    "\n",
    "    num_examples, num_features = inputs.shape\n",
    "    weights = np.zeros(num_features)\n",
    "    losses = []\n",
    "\n",
    "    for epoch in range(num_epochs):\n",
    "        # np.random.shuffle(inputs)\n",
    "\n",
    "        for i in range(num_examples):\n",
    "            # Select a single training example\n",
    "            x_i = inputs[i]\n",
    "            y_i = outputs[i]\n",
    "            \n",
    "            # Calculate the prediction\n",
    "            prediction = np.dot(x_i, weights)\n",
    "            \n",
    "            # Calculate the error\n",
    "            error = prediction - y_i\n",
    "            \n",
    "            # Update the weights\n",
    "            gradient = error * x_i\n",
    "            weights -= learning_rate * gradient\n",
    "        \n",
    "        # Calculate loss for the current epoch\n",
    "        predictions = np.dot(inputs, weights)\n",
    "        loss = np.mean((predictions - outputs) ** 2)\n",
    "        losses.append(loss)\n",
    "        \n",
    "        # Optional: print the loss for every epoch (can be removed if not needed)\n",
    "        print(f'Epoch {epoch+1}/{num_epochs}, Loss: {loss:.4f}')\n",
    "\n",
    "    return weights, losses\n"
   ]
  },
  {
   "cell_type": "code",
   "execution_count": 121,
   "metadata": {},
   "outputs": [
    {
     "name": "stdout",
     "output_type": "stream",
     "text": [
      "Epoch 1/10, Loss: 0.7188\n",
      "Epoch 2/10, Loss: 0.7172\n",
      "Epoch 3/10, Loss: 0.7156\n",
      "Epoch 4/10, Loss: 0.7141\n",
      "Epoch 5/10, Loss: 0.7125\n",
      "Epoch 6/10, Loss: 0.7110\n",
      "Epoch 7/10, Loss: 0.7095\n",
      "Epoch 8/10, Loss: 0.7080\n",
      "Epoch 9/10, Loss: 0.7064\n",
      "Epoch 10/10, Loss: 0.7049\n",
      "\n",
      "optimal_weights = array([0.06717795, 2.01337497])\n"
     ]
    }
   ],
   "source": [
    "optimal_weights, l = stochastic_gradient_descent(X_train, Y_train, learning_rate=0.0002, num_epochs=10)\n",
    "\n",
    "print(f\"\\n{optimal_weights = }\")"
   ]
  },
  {
   "cell_type": "code",
   "execution_count": null,
   "metadata": {},
   "outputs": [],
   "source": []
  }
 ],
 "metadata": {
  "accelerator": "GPU",
  "colab": {
   "collapsed_sections": [],
   "name": "02 Linear Regression.ipynb",
   "private_outputs": true,
   "provenance": [],
   "toc_visible": true
  },
  "kernelspec": {
   "display_name": "Python 3",
   "language": "python",
   "name": "python3"
  },
  "language_info": {
   "codemirror_mode": {
    "name": "ipython",
    "version": 3
   },
   "file_extension": ".py",
   "mimetype": "text/x-python",
   "name": "python",
   "nbconvert_exporter": "python",
   "pygments_lexer": "ipython3",
   "version": "3.9.19"
  }
 },
 "nbformat": 4,
 "nbformat_minor": 4
}
