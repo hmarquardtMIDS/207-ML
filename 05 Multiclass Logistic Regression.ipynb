{
 "cells": [
  {
   "cell_type": "markdown",
   "metadata": {},
   "source": [
    "## Week 5: Logistic Regression - multiclass\n",
    "\n",
    "Instructor: Cornelia Paulik <br>\n",
    "Email: cpaulik@ischool.berkeley.edu <br>"
   ]
  },
  {
   "cell_type": "markdown",
   "metadata": {},
   "source": [
    "#### ``Objectives``"
   ]
  },
  {
   "cell_type": "markdown",
   "metadata": {},
   "source": [
    "1. Supervised ML: predict multiclass target variables with logistic regression\n",
    "\n",
    "2. Use AI/ML to predict types of wine cultivars"
   ]
  },
  {
   "cell_type": "markdown",
   "metadata": {},
   "source": [
    "#### ``Data``"
   ]
  },
  {
   "cell_type": "markdown",
   "metadata": {},
   "source": [
    "[Source and data description](https://archive.ics.uci.edu/ml/machine-learning-databases/wine/wine.data): these data results from a chemical analysis of wines grown in the same region in Italy but derived from three different cultivars. The analysis determined the quantities of 13 constituents found in each of the three types of wines. The attributes are alcohol, malic acid, ash, alcalinity of ash, magnesium, total phenols, flavonoids, nonflavonoid phenols, proanthocyanins, color intensity, hue, OD280/OD315 of diluted wines, and proline.\n",
    "\n",
    "We will restrict our attention to two class labels (cultivar 0 and 1) and two features ('alcohol' and 'OD280/OD315_of_diluted_wines') for today's class."
   ]
  },
  {
   "cell_type": "markdown",
   "metadata": {},
   "source": [
    "### Step 1: Import packages"
   ]
  },
  {
   "cell_type": "code",
   "execution_count": 31,
   "metadata": {},
   "outputs": [],
   "source": [
    "# standard libraries\n",
    "import pandas as pd\n",
    "import numpy as np\n",
    "import os\n",
    "import random\n",
    "\n",
    "# visualizations\n",
    "import matplotlib.pyplot as plt\n",
    "from IPython.display import Image\n",
    "from mlxtend.plotting import heatmap\n",
    "from mlxtend.plotting import plot_decision_regions\n",
    "%matplotlib inline\n",
    "\n",
    "# sklearn\n",
    "from sklearn import preprocessing\n",
    "from sklearn.preprocessing import StandardScaler\n",
    "\n",
    "# tf\n",
    "import tensorflow as tf\n",
    "from tensorflow import keras\n",
    "from tensorflow.keras import initializers\n",
    "\n",
    "random.seed(2)"
   ]
  },
  {
   "cell_type": "markdown",
   "metadata": {},
   "source": [
    "### Step 2: Define functions"
   ]
  },
  {
   "cell_type": "code",
   "execution_count": 32,
   "metadata": {},
   "outputs": [],
   "source": [
    "def read_wine_data():\n",
    "    \"\"\"Read the wine dataset from 'https://archive.ics.uci.edu/ml/machine-learning-databases/wine/wine.data'\n",
    "    # param: None\n",
    "    # return df and X,y np.arrays for training and test (cleaning included)\n",
    "    \"\"\"\n",
    "    # read data\n",
    "    df = pd.read_csv('https://archive.ics.uci.edu/'\n",
    "                          'ml/machine-learning-databases/wine/wine.data',\n",
    "                          header=None)\n",
    "\n",
    "    # define columns\n",
    "    df.columns = ['class_label', 'alcohol', 'malic_acid', 'ash',\n",
    "                  'alcalinity_of_ash', 'magnesium', 'total_pphenols',\n",
    "                  'flavanoids', 'nonflavanoid_phenols', 'proanthocyanins',\n",
    "                  'color_intensity', 'hue', 'OD280/OD315_of_diluted_wines',\n",
    "                  'proline']\n",
    "\n",
    "    print('Shape of df wine:', df.shape)\n",
    "    \n",
    "    return df"
   ]
  },
  {
   "cell_type": "code",
   "execution_count": 33,
   "metadata": {},
   "outputs": [],
   "source": [
    "def confusion_matrix_plot(conf_matrix):\n",
    "    \"\"\" Confusion matrix matplotlib plot\n",
    "    # param conf_matrix: nested list of TP, TN, FP, FN\n",
    "    # return: None\n",
    "    \"\"\"\n",
    "    fig, ax = plt.subplots(figsize=(2.5, 2.5))\n",
    "    ax.matshow(conf_matrix, cmap=plt.cm.Blues, alpha=0.3)\n",
    "    for i in range(conf_matrix.shape[0]):\n",
    "        for j in range(conf_matrix.shape[1]):\n",
    "            ax.text(x=j, y=i, s=conf_matrix[i, j], va='center', ha='center')\n",
    "\n",
    "    plt.xlabel('Predicted label')\n",
    "    plt.ylabel('True label')\n",
    "\n",
    "    plt.tight_layout()\n",
    "    plt.show()"
   ]
  },
  {
   "cell_type": "code",
   "execution_count": 34,
   "metadata": {},
   "outputs": [],
   "source": [
    "def plot_value_array(i, predictions_array, true_label):\n",
    "    true_label = true_label[i]\n",
    "    plt.grid(False)\n",
    "    plt.xticks(range(3))\n",
    "    plt.yticks([])\n",
    "    plt.title('ground truth: ' + str(true_label))\n",
    "    thisplot = plt.bar(range(3), predictions_array, color=\"#777777\")\n",
    "    plt.ylim([0, 1])\n",
    "    \n",
    "    predicted_label = np.argmax(predictions_array)\n",
    "\n",
    "    thisplot[predicted_label].set_color('red')\n",
    "    thisplot[true_label].set_color('blue')"
   ]
  },
  {
   "cell_type": "markdown",
   "metadata": {},
   "source": [
    "---\n",
    "### Step 3: Read data\n",
    "---"
   ]
  },
  {
   "cell_type": "code",
   "execution_count": 35,
   "metadata": {},
   "outputs": [
    {
     "name": "stdout",
     "output_type": "stream",
     "text": [
      "Shape of df wine: (178, 14)\n"
     ]
    },
    {
     "data": {
      "text/html": [
       "<div>\n",
       "<style scoped>\n",
       "    .dataframe tbody tr th:only-of-type {\n",
       "        vertical-align: middle;\n",
       "    }\n",
       "\n",
       "    .dataframe tbody tr th {\n",
       "        vertical-align: top;\n",
       "    }\n",
       "\n",
       "    .dataframe thead th {\n",
       "        text-align: right;\n",
       "    }\n",
       "</style>\n",
       "<table border=\"1\" class=\"dataframe\">\n",
       "  <thead>\n",
       "    <tr style=\"text-align: right;\">\n",
       "      <th></th>\n",
       "      <th>class_label</th>\n",
       "      <th>alcohol</th>\n",
       "      <th>malic_acid</th>\n",
       "      <th>ash</th>\n",
       "      <th>alcalinity_of_ash</th>\n",
       "      <th>magnesium</th>\n",
       "      <th>total_pphenols</th>\n",
       "      <th>flavanoids</th>\n",
       "      <th>nonflavanoid_phenols</th>\n",
       "      <th>proanthocyanins</th>\n",
       "      <th>color_intensity</th>\n",
       "      <th>hue</th>\n",
       "      <th>OD280/OD315_of_diluted_wines</th>\n",
       "      <th>proline</th>\n",
       "    </tr>\n",
       "  </thead>\n",
       "  <tbody>\n",
       "    <tr>\n",
       "      <th>0</th>\n",
       "      <td>1</td>\n",
       "      <td>14.23</td>\n",
       "      <td>1.71</td>\n",
       "      <td>2.43</td>\n",
       "      <td>15.6</td>\n",
       "      <td>127</td>\n",
       "      <td>2.80</td>\n",
       "      <td>3.06</td>\n",
       "      <td>0.28</td>\n",
       "      <td>2.29</td>\n",
       "      <td>5.64</td>\n",
       "      <td>1.04</td>\n",
       "      <td>3.92</td>\n",
       "      <td>1065</td>\n",
       "    </tr>\n",
       "    <tr>\n",
       "      <th>1</th>\n",
       "      <td>1</td>\n",
       "      <td>13.20</td>\n",
       "      <td>1.78</td>\n",
       "      <td>2.14</td>\n",
       "      <td>11.2</td>\n",
       "      <td>100</td>\n",
       "      <td>2.65</td>\n",
       "      <td>2.76</td>\n",
       "      <td>0.26</td>\n",
       "      <td>1.28</td>\n",
       "      <td>4.38</td>\n",
       "      <td>1.05</td>\n",
       "      <td>3.40</td>\n",
       "      <td>1050</td>\n",
       "    </tr>\n",
       "    <tr>\n",
       "      <th>2</th>\n",
       "      <td>1</td>\n",
       "      <td>13.16</td>\n",
       "      <td>2.36</td>\n",
       "      <td>2.67</td>\n",
       "      <td>18.6</td>\n",
       "      <td>101</td>\n",
       "      <td>2.80</td>\n",
       "      <td>3.24</td>\n",
       "      <td>0.30</td>\n",
       "      <td>2.81</td>\n",
       "      <td>5.68</td>\n",
       "      <td>1.03</td>\n",
       "      <td>3.17</td>\n",
       "      <td>1185</td>\n",
       "    </tr>\n",
       "    <tr>\n",
       "      <th>3</th>\n",
       "      <td>1</td>\n",
       "      <td>14.37</td>\n",
       "      <td>1.95</td>\n",
       "      <td>2.50</td>\n",
       "      <td>16.8</td>\n",
       "      <td>113</td>\n",
       "      <td>3.85</td>\n",
       "      <td>3.49</td>\n",
       "      <td>0.24</td>\n",
       "      <td>2.18</td>\n",
       "      <td>7.80</td>\n",
       "      <td>0.86</td>\n",
       "      <td>3.45</td>\n",
       "      <td>1480</td>\n",
       "    </tr>\n",
       "    <tr>\n",
       "      <th>4</th>\n",
       "      <td>1</td>\n",
       "      <td>13.24</td>\n",
       "      <td>2.59</td>\n",
       "      <td>2.87</td>\n",
       "      <td>21.0</td>\n",
       "      <td>118</td>\n",
       "      <td>2.80</td>\n",
       "      <td>2.69</td>\n",
       "      <td>0.39</td>\n",
       "      <td>1.82</td>\n",
       "      <td>4.32</td>\n",
       "      <td>1.04</td>\n",
       "      <td>2.93</td>\n",
       "      <td>735</td>\n",
       "    </tr>\n",
       "  </tbody>\n",
       "</table>\n",
       "</div>"
      ],
      "text/plain": [
       "   class_label  alcohol  malic_acid   ash  alcalinity_of_ash  magnesium  \\\n",
       "0            1    14.23        1.71  2.43               15.6        127   \n",
       "1            1    13.20        1.78  2.14               11.2        100   \n",
       "2            1    13.16        2.36  2.67               18.6        101   \n",
       "3            1    14.37        1.95  2.50               16.8        113   \n",
       "4            1    13.24        2.59  2.87               21.0        118   \n",
       "\n",
       "   total_pphenols  flavanoids  nonflavanoid_phenols  proanthocyanins  \\\n",
       "0            2.80        3.06                  0.28             2.29   \n",
       "1            2.65        2.76                  0.26             1.28   \n",
       "2            2.80        3.24                  0.30             2.81   \n",
       "3            3.85        3.49                  0.24             2.18   \n",
       "4            2.80        2.69                  0.39             1.82   \n",
       "\n",
       "   color_intensity   hue  OD280/OD315_of_diluted_wines  proline  \n",
       "0             5.64  1.04                          3.92     1065  \n",
       "1             4.38  1.05                          3.40     1050  \n",
       "2             5.68  1.03                          3.17     1185  \n",
       "3             7.80  0.86                          3.45     1480  \n",
       "4             4.32  1.04                          2.93      735  "
      ]
     },
     "execution_count": 35,
     "metadata": {},
     "output_type": "execute_result"
    }
   ],
   "source": [
    "df = read_wine_data()\n",
    "df.head()"
   ]
  },
  {
   "cell_type": "markdown",
   "metadata": {},
   "source": [
    "The original data contains 178 observations and 13 features."
   ]
  },
  {
   "cell_type": "markdown",
   "metadata": {},
   "source": [
    "---\n",
    "### Step 4: Data preprocessing\n",
    "\n",
    "---"
   ]
  },
  {
   "cell_type": "markdown",
   "metadata": {},
   "source": [
    "``labels and features``"
   ]
  },
  {
   "cell_type": "code",
   "execution_count": 36,
   "metadata": {},
   "outputs": [
    {
     "name": "stdout",
     "output_type": "stream",
     "text": [
      "Class labels: [0 1 2]\n",
      "Features: Index(['alcohol', 'OD280/OD315_of_diluted_wines'], dtype='object')\n",
      "Shape of data (178, 3)\n"
     ]
    },
    {
     "data": {
      "text/html": [
       "<div>\n",
       "<style scoped>\n",
       "    .dataframe tbody tr th:only-of-type {\n",
       "        vertical-align: middle;\n",
       "    }\n",
       "\n",
       "    .dataframe tbody tr th {\n",
       "        vertical-align: top;\n",
       "    }\n",
       "\n",
       "    .dataframe thead th {\n",
       "        text-align: right;\n",
       "    }\n",
       "</style>\n",
       "<table border=\"1\" class=\"dataframe\">\n",
       "  <thead>\n",
       "    <tr style=\"text-align: right;\">\n",
       "      <th></th>\n",
       "      <th>class_label</th>\n",
       "      <th>alcohol</th>\n",
       "      <th>OD280/OD315_of_diluted_wines</th>\n",
       "    </tr>\n",
       "  </thead>\n",
       "  <tbody>\n",
       "    <tr>\n",
       "      <th>0</th>\n",
       "      <td>0</td>\n",
       "      <td>14.23</td>\n",
       "      <td>3.92</td>\n",
       "    </tr>\n",
       "    <tr>\n",
       "      <th>1</th>\n",
       "      <td>0</td>\n",
       "      <td>13.20</td>\n",
       "      <td>3.40</td>\n",
       "    </tr>\n",
       "    <tr>\n",
       "      <th>2</th>\n",
       "      <td>0</td>\n",
       "      <td>13.16</td>\n",
       "      <td>3.17</td>\n",
       "    </tr>\n",
       "    <tr>\n",
       "      <th>3</th>\n",
       "      <td>0</td>\n",
       "      <td>14.37</td>\n",
       "      <td>3.45</td>\n",
       "    </tr>\n",
       "    <tr>\n",
       "      <th>4</th>\n",
       "      <td>0</td>\n",
       "      <td>13.24</td>\n",
       "      <td>2.93</td>\n",
       "    </tr>\n",
       "  </tbody>\n",
       "</table>\n",
       "</div>"
      ],
      "text/plain": [
       "   class_label  alcohol  OD280/OD315_of_diluted_wines\n",
       "0            0    14.23                          3.92\n",
       "1            0    13.20                          3.40\n",
       "2            0    13.16                          3.17\n",
       "3            0    14.37                          3.45\n",
       "4            0    13.24                          2.93"
      ]
     },
     "execution_count": 36,
     "metadata": {},
     "output_type": "execute_result"
    }
   ],
   "source": [
    "# recode class labels (from 0 to 2 instead of 1 to 3)\n",
    "class_mapping = {label: idx for idx, label in enumerate(np.unique(df.class_label))}\n",
    "class_mapping\n",
    "\n",
    "df['class_label'] = df.class_label.map(class_mapping) # notice how we use all 3 classes\n",
    "labels = ['class_label']\n",
    "\n",
    "# select only 2 features (easier to visualize features and decission bounderies in a 2D space)\n",
    "features = ['alcohol', 'OD280/OD315_of_diluted_wines']\n",
    "\n",
    "# ansamble data\n",
    "df = df[labels+features]\n",
    "\n",
    "# print data and shapes\n",
    "print('Class labels:', df['class_label'].unique())\n",
    "print('Features:', df.columns[1:])\n",
    "print('Shape of data', df.shape)\n",
    "df.head()"
   ]
  },
  {
   "cell_type": "code",
   "execution_count": 37,
   "metadata": {},
   "outputs": [
    {
     "data": {
      "text/plain": [
       "{1: 0, 2: 1, 3: 2}"
      ]
     },
     "execution_count": 37,
     "metadata": {},
     "output_type": "execute_result"
    }
   ],
   "source": [
    "class_mapping"
   ]
  },
  {
   "cell_type": "markdown",
   "metadata": {},
   "source": [
    "``split data into training, validation and test``"
   ]
  },
  {
   "cell_type": "code",
   "execution_count": 38,
   "metadata": {},
   "outputs": [
    {
     "name": "stdout",
     "output_type": "stream",
     "text": [
      "Size of X_train (106, 2)\n",
      "Size of y_train (106,)\n",
      "Size of X_val (35, 2)\n",
      "Size of y_val (35,)\n",
      "Size of X_test (37, 2)\n",
      "Size of y_test (37,)\n"
     ]
    }
   ],
   "source": [
    "# define outcome #\n",
    "##################\n",
    "y = df['class_label'].values\n",
    "\n",
    "# define features #\n",
    "###################\n",
    "X = df[['alcohol', 'OD280/OD315_of_diluted_wines']].values\n",
    "\n",
    "# split #\n",
    "#########\n",
    "# set seed for consistent behavior\n",
    "# set seed for consistent behavior\n",
    "tf.random.set_seed(1234)\n",
    "np.random.seed(1234)\n",
    "splits = (0.6,0.2, 0.2)\n",
    "shuffle = np.random.permutation(np.arange(y.shape[0]))\n",
    "X, y = X[shuffle], y[shuffle]\n",
    "\n",
    "splits = np.multiply(len(y), splits).astype(int)\n",
    "X_train, X_val, X_test = np.split(X, [splits[0], splits[0]+splits[1]])\n",
    "y_train, y_val, y_test = np.split(y, [splits[0], splits[0]+splits[1]])\n",
    "\n",
    "print('Size of X_train', X_train.shape)\n",
    "print('Size of y_train', y_train.shape)\n",
    "print('Size of X_val', X_val.shape)\n",
    "print('Size of y_val', y_val.shape)\n",
    "print('Size of X_test', X_test.shape)\n",
    "print('Size of y_test', y_test.shape)\n",
    "\n",
    "\n",
    "# df for y_train and X_train #\n",
    "##############################\n",
    "# easier for EDA later on\n",
    "df_train = pd.concat(\n",
    "    [pd.DataFrame(y_train), pd.DataFrame(X_train)],\n",
    "    axis=1\n",
    ")\n",
    "\n",
    "# rename columns\n",
    "df_train.columns=['class_label', 'alcohol', 'OD280/OD315_of_diluted_wines']"
   ]
  },
  {
   "cell_type": "markdown",
   "metadata": {},
   "source": [
    "``feature scalling for optimal performance``"
   ]
  },
  {
   "cell_type": "markdown",
   "metadata": {},
   "source": [
    "standardization: center the feature columns at mean 0 and std 1. Prefered over normalization, as it preservers useful information about outliers and makes the algorithm less sensitive to them. This is what we will be implementing today."
   ]
  },
  {
   "cell_type": "code",
   "execution_count": 39,
   "metadata": {},
   "outputs": [],
   "source": [
    "# standardize\n",
    "sc_x = StandardScaler()\n",
    "\n",
    "X_train_std = sc_x.fit(X_train).transform(X_train)\n",
    "X_val_std = sc_x.fit(X_train).transform(X_val)\n",
    "X_test_std = sc_x.fit(X_train).transform(X_test)"
   ]
  },
  {
   "cell_type": "markdown",
   "metadata": {},
   "source": [
    "Note how we fit the StandardScaler() only on the training data, and use the mean and sd parameters to transform the test data!"
   ]
  },
  {
   "cell_type": "markdown",
   "metadata": {},
   "source": [
    "---\n",
    "### Step 5: Exploratory Data Analysis (EDA)\n",
    "---"
   ]
  },
  {
   "cell_type": "markdown",
   "metadata": {},
   "source": [
    "Prior to training a model it is important to perform exploratory data analysis. The idea is to detect any missing data, the presence of outliers, the feature distribution, and the relationship between features and outcome. Note that typically there is a back and forth between Step 4 and 5, depending on how satisfied you are with the results of the EDA."
   ]
  },
  {
   "cell_type": "code",
   "execution_count": 40,
   "metadata": {},
   "outputs": [
    {
     "data": {
      "text/plain": [
       "class_label                     0\n",
       "alcohol                         0\n",
       "OD280/OD315_of_diluted_wines    0\n",
       "dtype: int64"
      ]
     },
     "execution_count": 40,
     "metadata": {},
     "output_type": "execute_result"
    }
   ],
   "source": [
    "df_train.isna().sum()"
   ]
  },
  {
   "cell_type": "markdown",
   "metadata": {},
   "source": [
    "``correlation matrix of outcome and feature variables``"
   ]
  },
  {
   "cell_type": "code",
   "execution_count": 41,
   "metadata": {},
   "outputs": [
    {
     "data": {
      "image/png": "[encoded data removed]",
      "text/plain": [
       "<Figure size 600x600 with 2 Axes>"
      ]
     },
     "metadata": {},
     "output_type": "display_data"
    }
   ],
   "source": [
    "cm = df_train.corr().values\n",
    "hm = heatmap(\n",
    "    cm,\n",
    "    row_names=df_train.columns,\n",
    "    column_names=df_train.columns,\n",
    "    figsize=(6, 6)\n",
    ")"
   ]
  },
  {
   "cell_type": "markdown",
   "metadata": {},
   "source": [
    "<span style=\"color:chocolate\"> *Question:*</span> Which features seem to be most informative to predict the cultivar class?"
   ]
  },
  {
   "cell_type": "markdown",
   "metadata": {},
   "source": [
    "``histogram of clases and features``"
   ]
  },
  {
   "cell_type": "markdown",
   "metadata": {},
   "source": [
    "Here we will examine the distribution of the outcome variable (cultivar class) and the distribution of the two features (alcohol content and ODs of diluted wines)."
   ]
  },
  {
   "cell_type": "code",
   "execution_count": 42,
   "metadata": {},
   "outputs": [
    {
     "data": {
      "image/png": "[encoded data removed]",
      "text/plain": [
       "<Figure size 1000x300 with 3 Axes>"
      ]
     },
     "metadata": {},
     "output_type": "display_data"
    }
   ],
   "source": [
    "columns = ['class_label', 'alcohol', 'OD280/OD315_of_diluted_wines']\n",
    "fig, axes = plt.subplots(nrows=1, ncols=3, figsize=(10,3))\n",
    "for idx, ax in enumerate(axes.flatten()):\n",
    "    # plot histogram\n",
    "    ax.hist(df_train[columns[idx]])\n",
    "    # set xlabel\n",
    "    ax.set_xlabel(columns[idx])"
   ]
  },
  {
   "cell_type": "markdown",
   "metadata": {},
   "source": [
    "<span style=\"color:chocolate\"> *Question:*</span> As you can see from the histogram, there seems to be some class imbalance in the data. The presence of imbalanced data hampers the detection of rare events as most classification methods implicitly assume an equal occurrence of classes and are designed to maximize the overall classification accuracy. <span style=\"color:chocolate\"> Suggest a way to deal with imbalanced data.</span>"
   ]
  },
  {
   "cell_type": "markdown",
   "metadata": {},
   "source": [
    "---\n",
    "### Step 6: Analysis - Logistic Regression with two features\n",
    "---"
   ]
  },
  {
   "cell_type": "markdown",
   "metadata": {},
   "source": [
    "``with TensorFlow``"
   ]
  },
  {
   "cell_type": "markdown",
   "metadata": {},
   "source": [
    "Define and compile model"
   ]
  },
  {
   "cell_type": "code",
   "execution_count": 43,
   "metadata": {},
   "outputs": [
    {
     "name": "stdout",
     "output_type": "stream",
     "text": [
      "Model: \"sequential\"\n",
      "_________________________________________________________________\n",
      " Layer (type)                Output Shape              Param #   \n",
      "=================================================================\n",
      " Output (Dense)              (None, 3)                 9         \n",
      "                                                                 \n",
      "=================================================================\n",
      "Total params: 9\n",
      "Trainable params: 9\n",
      "Non-trainable params: 0\n",
      "_________________________________________________________________\n"
     ]
    }
   ],
   "source": [
    "def build_model(num_features):\n",
    "    \"\"\"Return a simple logistic regression model using the Keras Sequential API.\"\"\"\n",
    "  # Clear session and set a random seed for consistent behavior.\n",
    "    tf.keras.backend.clear_session()\n",
    "    tf.random.set_seed(1234)\n",
    "    \n",
    "\n",
    "  # Use Keras Sequential API to build a logistic regression\n",
    "    model = keras.Sequential()\n",
    "    \n",
    "    # create input layer\n",
    "    model.add(tf.keras.Input(shape=(num_features,), name='Input'))\n",
    "\n",
    "    # create output layer\n",
    "    model.add(keras.layers.Dense(\n",
    "          units=3,  # remember it's a multiclass classification problem\n",
    "          use_bias=True,\n",
    "          activation='softmax', # remember it's a multiclass classification problem\n",
    "          kernel_initializer=initializers.RandomNormal(stddev=0.01),\n",
    "          bias_initializer=initializers.RandomNormal(stddev=0.01),\n",
    "          name='Output'\n",
    "    ))\n",
    "  \n",
    "  # Use Categorical Crossentropy as our loss and the SGD optimizer.\n",
    "    model.compile(\n",
    "        loss=tf.keras.losses.SparseCategoricalCrossentropy(),\n",
    "        optimizer=tf.keras.optimizers.SGD(learning_rate=0.1),\n",
    "        metrics=['accuracy']\n",
    "    )\n",
    "    return model\n",
    "\n",
    "# Build a model\n",
    "model = build_model(num_features=len(features))\n",
    "model.summary()"
   ]
  },
  {
   "cell_type": "markdown",
   "metadata": {},
   "source": [
    "Model fit:"
   ]
  },
  {
   "cell_type": "code",
   "execution_count": 44,
   "metadata": {},
   "outputs": [
    {
     "name": "stderr",
     "output_type": "stream",
     "text": [
      "2024-06-15 14:47:20.287734: I tensorflow/core/grappler/optimizers/custom_graph_optimizer_registry.cc:114] Plugin optimizer for device_type GPU is enabled.\n",
      "2024-06-15 14:47:20.304062: E tensorflow/core/grappler/optimizers/meta_optimizer.cc:954] model_pruner failed: INVALID_ARGUMENT: Graph does not contain terminal node AssignVariableOp.\n",
      "2024-06-15 14:47:20.436553: I tensorflow/core/grappler/optimizers/custom_graph_optimizer_registry.cc:114] Plugin optimizer for device_type GPU is enabled.\n"
     ]
    }
   ],
   "source": [
    "tf.random.set_seed(1234)\n",
    "np.random.seed(1234)\n",
    "# Train model\n",
    "hist= model.fit(x=X_train_std,\n",
    "                y=y_train,\n",
    "                validation_data=[X_test_std, y_test],\n",
    "                #validation_split=0.1, # set 10% of train data for validation\n",
    "                batch_size=len(X_train_std),\n",
    "                epochs=120,\n",
    "                verbose=0 #silence fit\n",
    ")"
   ]
  },
  {
   "cell_type": "markdown",
   "metadata": {},
   "source": [
    "Show learned model"
   ]
  },
  {
   "cell_type": "code",
   "execution_count": 45,
   "metadata": {},
   "outputs": [
    {
     "name": "stdout",
     "output_type": "stream",
     "text": [
      "Bias: [-0.13756344  0.27144122 -0.13414823]\n",
      "Weights [[ 1.039939   -1.2211888   0.18043444]\n",
      " [ 1.0375625   0.48344627 -1.5206797 ]]\n"
     ]
    }
   ],
   "source": [
    "# Show learned model\n",
    "w = model.layers[0].get_weights()[0]\n",
    "b = model.layers[0].get_weights()[1]\n",
    "\n",
    "print('Bias:', b)\n",
    "print('Weights', w)"
   ]
  },
  {
   "cell_type": "markdown",
   "metadata": {},
   "source": [
    "Plot model performance:"
   ]
  },
  {
   "cell_type": "code",
   "execution_count": 46,
   "metadata": {},
   "outputs": [
    {
     "data": {
      "image/png": "[encoded data removed]",
      "text/plain": [
       "<Figure size 1600x400 with 2 Axes>"
      ]
     },
     "metadata": {},
     "output_type": "display_data"
    }
   ],
   "source": [
    "# grab history\n",
    "history = hist.history\n",
    "\n",
    "# plot loss for train and validation\n",
    "fig = plt.figure(figsize=(16, 4))\n",
    "ax = fig.add_subplot(1, 2, 1)\n",
    "plt.plot(history['loss'], lw=2, color='darkgoldenrod')\n",
    "plt.plot(history['val_loss'], lw=2, color='indianred')\n",
    "plt.legend(['Train', 'Validation'], fontsize=10)\n",
    "ax.set_xlabel('Epochs', size=10)\n",
    "ax.set_title('Loss');\n",
    "\n",
    "# plot accuracy for train and validation\n",
    "ax = fig.add_subplot(1, 2, 2)\n",
    "plt.plot(history['accuracy'], lw=2, color='darkgoldenrod')\n",
    "plt.plot(history['val_accuracy'], lw=2, color='indianred')\n",
    "plt.legend(['Train', 'Validation'], fontsize=10)\n",
    "ax.set_xlabel('Epochs', size=10)\n",
    "ax.set_title('Accuracy');"
   ]
  },
  {
   "cell_type": "markdown",
   "metadata": {},
   "source": [
    "Evaluation (on test data)"
   ]
  },
  {
   "cell_type": "code",
   "execution_count": 47,
   "metadata": {},
   "outputs": [
    {
     "name": "stdout",
     "output_type": "stream",
     "text": [
      "2/2 [==============================] - 0s 7ms/step\n"
     ]
    },
    {
     "name": "stderr",
     "output_type": "stream",
     "text": [
      "2024-06-15 14:47:24.211287: I tensorflow/core/grappler/optimizers/custom_graph_optimizer_registry.cc:114] Plugin optimizer for device_type GPU is enabled.\n"
     ]
    },
    {
     "data": {
      "text/plain": [
       "array([0.01171789, 0.98087686, 0.00740521], dtype=float32)"
      ]
     },
     "execution_count": 47,
     "metadata": {},
     "output_type": "execute_result"
    }
   ],
   "source": [
    "# run the trained model on the test data (the model outputs probabilities)\n",
    "y_test_pred_tf = model.predict(x=X_test_std, verbose =1)\n",
    "\n",
    "# print the predictions for the first example in test data\n",
    "y_test_pred_tf[0]"
   ]
  },
  {
   "cell_type": "markdown",
   "metadata": {},
   "source": [
    "A prediction is an array of 3 numbers. They represent the model's \"confidence\" that the example corresponds to each of the 3 different cultivar classes. You can see which label has the highest confidence value for the first example in test data:"
   ]
  },
  {
   "cell_type": "code",
   "execution_count": 48,
   "metadata": {},
   "outputs": [
    {
     "name": "stdout",
     "output_type": "stream",
     "text": [
      "predicted label: 1\n"
     ]
    }
   ],
   "source": [
    "print(\"predicted label:\", np.argmax(y_test_pred_tf[0]))"
   ]
  },
  {
   "cell_type": "markdown",
   "metadata": {},
   "source": [
    "So, the model is most confident that this example is cultivar 0. Examining the ground truth test label shows that this classification is correct:"
   ]
  },
  {
   "cell_type": "code",
   "execution_count": 30,
   "metadata": {},
   "outputs": [
    {
     "name": "stdout",
     "output_type": "stream",
     "text": [
      "ground truth label: 0\n"
     ]
    }
   ],
   "source": [
    "# compare with the actual values (ground truth) in test data\n",
    "print(\"ground truth label:\", np.argmax(y_test[0]))"
   ]
  },
  {
   "cell_type": "markdown",
   "metadata": {},
   "source": [
    "Next, let's plot the first 15 examples in the test data, their predicted labels, and the true labels.  Color correct predictions in blue and incorrect predictions in red."
   ]
  },
  {
   "cell_type": "code",
   "execution_count": 19,
   "metadata": {},
   "outputs": [
    {
     "data": {
      "image/png": "[encoded data removed]",
      "text/plain": [
       "<Figure size 1200x1000 with 15 Axes>"
      ]
     },
     "metadata": {},
     "output_type": "display_data"
    }
   ],
   "source": [
    "num_rows = 5\n",
    "num_cols = 3\n",
    "num_examples = num_rows*num_cols\n",
    "\n",
    "plt.figure(figsize=(2*2*num_cols, 2*num_rows))\n",
    "for i in range(num_examples):\n",
    "    plt.subplot(num_rows, 2*num_cols, 2*i+2)\n",
    "    plot_value_array(i, y_test_pred_tf[i], y_test) # this function is defined at the top of the notebook\n",
    "\n",
    "    \n",
    "plt.tight_layout()\n",
    "plt.show()"
   ]
  },
  {
   "cell_type": "markdown",
   "metadata": {},
   "source": [
    "Evaluation - cont'd (on training and test data)"
   ]
  },
  {
   "cell_type": "code",
   "execution_count": 30,
   "metadata": {},
   "outputs": [
    {
     "name": "stdout",
     "output_type": "stream",
     "text": [
      "\u001b[1m4/4\u001b[0m \u001b[32m━━━━━━━━━━━━━━━━━━━━\u001b[0m\u001b[37m\u001b[0m \u001b[1m0s\u001b[0m 959us/step\n",
      "Train, misclassified examples: 12\n",
      "Train, prediction accuracy: 0.887\n",
      "\u001b[1m2/2\u001b[0m \u001b[32m━━━━━━━━━━━━━━━━━━━━\u001b[0m\u001b[37m\u001b[0m \u001b[1m0s\u001b[0m 751us/step\n",
      "Test, misclassified examples: 6\n",
      "Test, prediction accuracy: 0.838\n"
     ]
    }
   ],
   "source": [
    "### print accuracy for training\n",
    "y_train_pred_tf = model.predict(x=X_train_std)\n",
    "\n",
    "# set predicted label based on highest probability\n",
    "y_train_maxpred_tf =  np.argmax(y_train_pred_tf, axis=1)\n",
    "\n",
    "print('Train, misclassified examples: %d' % (y_train != y_train_maxpred_tf).sum())\n",
    "error_train_tf = (y_train != y_train_maxpred_tf).sum()/len(y_train_maxpred_tf)\n",
    "print('Train, prediction accuracy: %.3f'% (1-error_train_tf))\n",
    "\n",
    "### print accuracy for test\n",
    "y_test_pred_tf = model.predict(x=X_test_std)\n",
    "\n",
    "# set predicted label based on highest probability\n",
    "y_test_maxpred_tf =  np.argmax(y_test_pred_tf, axis=1)\n",
    "\n",
    "print('Test, misclassified examples: %d' % (y_test != y_test_maxpred_tf).sum())\n",
    "error_test_tf = (y_test != y_test_maxpred_tf).sum()/len(y_test_maxpred_tf)\n",
    "print('Test, prediction accuracy: %.3f'% (1-error_test_tf))"
   ]
  },
  {
   "cell_type": "code",
   "execution_count": 21,
   "metadata": {},
   "outputs": [
    {
     "data": {
      "text/plain": [
       "<tf.Tensor: shape=(3, 3), dtype=int32, numpy=\n",
       "array([[ 9,  4,  0],\n",
       "       [ 0, 14,  2],\n",
       "       [ 0,  0,  8]], dtype=int32)>"
      ]
     },
     "execution_count": 21,
     "metadata": {},
     "output_type": "execute_result"
    }
   ],
   "source": [
    "# plot confusion matrix for test data\n",
    "conf_matrix = tf.math.confusion_matrix(\n",
    "    y_test,\n",
    "    y_test_maxpred_tf,\n",
    "    num_classes=None,\n",
    "    weights=None,\n",
    "    dtype=tf.dtypes.int32,\n",
    "    name=None\n",
    ")\n",
    "conf_matrix"
   ]
  },
  {
   "cell_type": "code",
   "execution_count": 22,
   "metadata": {},
   "outputs": [
    {
     "data": {
      "image/png": "[encoded data removed]",
      "text/plain": [
       "<Figure size 250x250 with 1 Axes>"
      ]
     },
     "metadata": {},
     "output_type": "display_data"
    }
   ],
   "source": [
    "confusion_matrix_plot(conf_matrix.numpy())"
   ]
  },
  {
   "cell_type": "markdown",
   "metadata": {},
   "source": [
    "<span style=\"color:chocolate\"> *Question:*</span> Which class is the most difficult for the Logistic Regression model to recognize?"
   ]
  },
  {
   "cell_type": "markdown",
   "metadata": {},
   "source": [
    "---\n",
    "### Breakout room exercise"
   ]
  },
  {
   "cell_type": "markdown",
   "metadata": {},
   "source": [
    "1. Plot the ROC AUC curve using the One-vs-the-Rest (OvR) strategy as follows:\n",
    " - for each cultivar class;\n",
    " - the micro-average;\n",
    " - the macro-average;\n",
    " - the chance level.\n",
    "\n",
    "\n",
    "Hint: https://scikit-learn.org/stable/auto_examples/model_selection/plot_roc.html"
   ]
  },
  {
   "cell_type": "markdown",
   "metadata": {},
   "source": [
    "Notes:\n",
    "\n",
    "1. The One-vs-the-Rest (OvR) multiclass strategy, also known as one-vs-all, consists in computing a ROC curve per each of the n_classes. In each step, a given class is regarded as the positive class and the remaining classes are regarded as the negative class as a bulk;\n",
    "2. Micro-averaging aggregates the contributions from all the classes to compute the average TPR and FPR metrics;\n",
    "3. Obtaining the macro-average requires computing the metric independently for each class and then taking the average over them, hence treating all classes equally a priori.\n",
    "4. In a multi-class classification setup with highly imbalanced classes, micro-averaging is preferable over macro-averaging. In such cases, one can alternatively use a weighted macro-averaging, not demoed here."
   ]
  }
 ],
 "metadata": {
  "kernelspec": {
   "display_name": "Python 3 (ipykernel)",
   "language": "python",
   "name": "python3"
  },
  "language_info": {
   "codemirror_mode": {
    "name": "ipython",
    "version": 3
   },
   "file_extension": ".py",
   "mimetype": "text/x-python",
   "name": "python",
   "nbconvert_exporter": "python",
   "pygments_lexer": "ipython3",
   "version": "3.9.19"
  }
 },
 "nbformat": 4,
 "nbformat_minor": 4
}
